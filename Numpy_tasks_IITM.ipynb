{
  "cells": [
    {
      "cell_type": "markdown",
      "metadata": {
        "id": "view-in-github",
        "colab_type": "text"
      },
      "source": [
        "<a href=\"https://colab.research.google.com/github/connectasp/Numpy_Task/blob/main/Numpy_tasks_IITM.ipynb\" target=\"_parent\"><img src=\"https://colab.research.google.com/assets/colab-badge.svg\" alt=\"Open In Colab\"/></a>"
      ]
    },
    {
      "cell_type": "markdown",
      "metadata": {
        "id": "1ddQkcUAPwwF"
      },
      "source": [
        "# Numpy\n",
        "\n"
      ]
    },
    {
      "cell_type": "markdown",
      "metadata": {
        "id": "HGwFzTKLPwwI"
      },
      "source": [
        "#### 1. Import the numpy package under the name `np` (★☆☆) \n",
        "(**hint**: import … as …)"
      ]
    },
    {
      "cell_type": "code",
      "execution_count": 2,
      "metadata": {
        "collapsed": true,
        "id": "TUm0QtCSPwwJ"
      },
      "outputs": [],
      "source": [
        "import numpy as np"
      ]
    },
    {
      "cell_type": "markdown",
      "metadata": {
        "id": "d-6ItNt8PwwJ"
      },
      "source": [
        "#### 2. Print the numpy version and the configuration (★☆☆) \n",
        "(**hint**: np.\\_\\_version\\_\\_, np.show\\_config)"
      ]
    },
    {
      "cell_type": "code",
      "execution_count": 4,
      "metadata": {
        "id": "YeBC9S-2PwwL",
        "colab": {
          "base_uri": "https://localhost:8080/"
        },
        "outputId": "bcc8e01c-840b-4886-840a-15e8e28b6b64"
      },
      "outputs": [
        {
          "output_type": "stream",
          "name": "stdout",
          "text": [
            "1.21.6\n"
          ]
        }
      ],
      "source": [
        "print(np.__version__)"
      ]
    },
    {
      "cell_type": "code",
      "source": [
        "print(np.show_config())"
      ],
      "metadata": {
        "colab": {
          "base_uri": "https://localhost:8080/"
        },
        "id": "65ggzOeNIomo",
        "outputId": "76288e37-101f-4247-f46a-c6a0b56458b2"
      },
      "execution_count": 8,
      "outputs": [
        {
          "output_type": "stream",
          "name": "stdout",
          "text": [
            "blas_mkl_info:\n",
            "  NOT AVAILABLE\n",
            "blis_info:\n",
            "  NOT AVAILABLE\n",
            "openblas_info:\n",
            "    libraries = ['openblas', 'openblas']\n",
            "    library_dirs = ['/usr/local/lib']\n",
            "    language = c\n",
            "    define_macros = [('HAVE_CBLAS', None)]\n",
            "    runtime_library_dirs = ['/usr/local/lib']\n",
            "blas_opt_info:\n",
            "    libraries = ['openblas', 'openblas']\n",
            "    library_dirs = ['/usr/local/lib']\n",
            "    language = c\n",
            "    define_macros = [('HAVE_CBLAS', None)]\n",
            "    runtime_library_dirs = ['/usr/local/lib']\n",
            "lapack_mkl_info:\n",
            "  NOT AVAILABLE\n",
            "openblas_lapack_info:\n",
            "    libraries = ['openblas', 'openblas']\n",
            "    library_dirs = ['/usr/local/lib']\n",
            "    language = c\n",
            "    define_macros = [('HAVE_CBLAS', None)]\n",
            "    runtime_library_dirs = ['/usr/local/lib']\n",
            "lapack_opt_info:\n",
            "    libraries = ['openblas', 'openblas']\n",
            "    library_dirs = ['/usr/local/lib']\n",
            "    language = c\n",
            "    define_macros = [('HAVE_CBLAS', None)]\n",
            "    runtime_library_dirs = ['/usr/local/lib']\n",
            "Supported SIMD extensions in this NumPy install:\n",
            "    baseline = SSE,SSE2,SSE3\n",
            "    found = SSSE3,SSE41,POPCNT,SSE42,AVX,F16C,FMA3,AVX2\n",
            "    not found = AVX512F,AVX512CD,AVX512_KNL,AVX512_KNM,AVX512_SKX,AVX512_CLX,AVX512_CNL,AVX512_ICL\n",
            "None\n"
          ]
        }
      ]
    },
    {
      "cell_type": "markdown",
      "metadata": {
        "id": "CUOvrVc6PwwL"
      },
      "source": [
        "#### 3. Create a null vector of size 10 (★☆☆) \n",
        "(**hint**: np.zeros)"
      ]
    },
    {
      "cell_type": "code",
      "execution_count": 10,
      "metadata": {
        "id": "1l9F0UUbPwwL",
        "colab": {
          "base_uri": "https://localhost:8080/"
        },
        "outputId": "30c172e9-ac10-4902-e6df-3f9c9c79688f"
      },
      "outputs": [
        {
          "output_type": "stream",
          "name": "stdout",
          "text": [
            "[0. 0. 0. 0. 0. 0. 0. 0. 0. 0.]\n"
          ]
        }
      ],
      "source": [
        "a = np.zeros(10)\n",
        "print(a)"
      ]
    },
    {
      "cell_type": "markdown",
      "metadata": {
        "id": "SjJMRUYIPwwM"
      },
      "source": [
        "#### 4.  How to find the memory size of any array (★☆☆) \n",
        "(**hint**: size, itemsize)"
      ]
    },
    {
      "cell_type": "code",
      "execution_count": 11,
      "metadata": {
        "id": "Didv6Co9PwwN",
        "colab": {
          "base_uri": "https://localhost:8080/"
        },
        "outputId": "37188b03-0296-46e4-baf7-b47470b36a78"
      },
      "outputs": [
        {
          "output_type": "stream",
          "name": "stdout",
          "text": [
            "10\n"
          ]
        }
      ],
      "source": [
        "print(a.size)"
      ]
    },
    {
      "cell_type": "code",
      "source": [
        "print(a.itemsize)"
      ],
      "metadata": {
        "colab": {
          "base_uri": "https://localhost:8080/"
        },
        "id": "aG2_cMpLJcC8",
        "outputId": "156059a1-b08c-443c-a8aa-fd80b119e4e2"
      },
      "execution_count": 12,
      "outputs": [
        {
          "output_type": "stream",
          "name": "stdout",
          "text": [
            "8\n"
          ]
        }
      ]
    },
    {
      "cell_type": "markdown",
      "metadata": {
        "id": "vJYN9EDrPwwN"
      },
      "source": [
        "#### 5.  How to get the documentation of the numpy add function from the command line? (★☆☆) \n",
        "(**hint**: np.info)"
      ]
    },
    {
      "cell_type": "code",
      "source": [
        "python -c \"import numpy; numpy.info(numpy.add)\""
      ],
      "metadata": {
        "id": "DJ3Lpt3XPiDK"
      },
      "execution_count": null,
      "outputs": []
    },
    {
      "cell_type": "code",
      "execution_count": 15,
      "metadata": {
        "collapsed": true,
        "id": "YnSUGj3lPwwO",
        "colab": {
          "base_uri": "https://localhost:8080/"
        },
        "outputId": "2b1a3505-cf36-431a-c88c-7c29ef3e8485"
      },
      "outputs": [
        {
          "output_type": "stream",
          "name": "stdout",
          "text": [
            "add(x1, x2, /, out=None, *, where=True, casting='same_kind', order='K', dtype=None, subok=True[, signature, extobj])\n",
            "\n",
            "Add arguments element-wise.\n",
            "\n",
            "Parameters\n",
            "----------\n",
            "x1, x2 : array_like\n",
            "    The arrays to be added.\n",
            "    If ``x1.shape != x2.shape``, they must be broadcastable to a common\n",
            "    shape (which becomes the shape of the output).\n",
            "out : ndarray, None, or tuple of ndarray and None, optional\n",
            "    A location into which the result is stored. If provided, it must have\n",
            "    a shape that the inputs broadcast to. If not provided or None,\n",
            "    a freshly-allocated array is returned. A tuple (possible only as a\n",
            "    keyword argument) must have length equal to the number of outputs.\n",
            "where : array_like, optional\n",
            "    This condition is broadcast over the input. At locations where the\n",
            "    condition is True, the `out` array will be set to the ufunc result.\n",
            "    Elsewhere, the `out` array will retain its original value.\n",
            "    Note that if an uninitialized `out` array is created via the default\n",
            "    ``out=None``, locations within it where the condition is False will\n",
            "    remain uninitialized.\n",
            "**kwargs\n",
            "    For other keyword-only arguments, see the\n",
            "    :ref:`ufunc docs <ufuncs.kwargs>`.\n",
            "\n",
            "Returns\n",
            "-------\n",
            "add : ndarray or scalar\n",
            "    The sum of `x1` and `x2`, element-wise.\n",
            "    This is a scalar if both `x1` and `x2` are scalars.\n",
            "\n",
            "Notes\n",
            "-----\n",
            "Equivalent to `x1` + `x2` in terms of array broadcasting.\n",
            "\n",
            "Examples\n",
            "--------\n",
            ">>> np.add(1.0, 4.0)\n",
            "5.0\n",
            ">>> x1 = np.arange(9.0).reshape((3, 3))\n",
            ">>> x2 = np.arange(3.0)\n",
            ">>> np.add(x1, x2)\n",
            "array([[  0.,   2.,   4.],\n",
            "       [  3.,   5.,   7.],\n",
            "       [  6.,   8.,  10.]])\n",
            "\n",
            "The ``+`` operator can be used as a shorthand for ``np.add`` on ndarrays.\n",
            "\n",
            ">>> x1 = np.arange(9.0).reshape((3, 3))\n",
            ">>> x2 = np.arange(3.0)\n",
            ">>> x1 + x2\n",
            "array([[ 0.,  2.,  4.],\n",
            "       [ 3.,  5.,  7.],\n",
            "       [ 6.,  8., 10.]])\n",
            "None\n"
          ]
        }
      ],
      "source": [
        "print(np.info(np.add))"
      ]
    },
    {
      "cell_type": "markdown",
      "metadata": {
        "id": "MWkW4z2tPwwO"
      },
      "source": [
        "#### 6.  Create a null vector of size 10 but the fifth value which is 1 (★☆☆) \n",
        "(**hint**: array\\[4\\])"
      ]
    },
    {
      "cell_type": "code",
      "execution_count": 16,
      "metadata": {
        "id": "PQZ-rnKMPwwO",
        "colab": {
          "base_uri": "https://localhost:8080/"
        },
        "outputId": "8105140f-e10b-4d4c-96e4-446ae83ef8a1"
      },
      "outputs": [
        {
          "output_type": "stream",
          "name": "stdout",
          "text": [
            "[0. 0. 0. 0. 1. 0. 0. 0. 0. 0.]\n"
          ]
        }
      ],
      "source": [
        "a = np.zeros(10)\n",
        "a[4] = 1\n",
        "print(a)"
      ]
    },
    {
      "cell_type": "markdown",
      "metadata": {
        "id": "FJUGx06IPwwO"
      },
      "source": [
        "#### 7.  Create a vector with values ranging from 10 to 49 (★☆☆) \n",
        "(**hint**: np.arange)"
      ]
    },
    {
      "cell_type": "code",
      "execution_count": 18,
      "metadata": {
        "id": "stu8iEoOPwwP",
        "colab": {
          "base_uri": "https://localhost:8080/"
        },
        "outputId": "a1ee3e12-9783-4ec2-e980-bc251efb4a72"
      },
      "outputs": [
        {
          "output_type": "stream",
          "name": "stdout",
          "text": [
            "[10 11 12 13 14 15 16 17 18 19 20 21 22 23 24 25 26 27 28 29 30 31 32 33\n",
            " 34 35 36 37 38 39 40 41 42 43 44 45 46 47 48]\n"
          ]
        }
      ],
      "source": [
        "b = np.arange(10,49)\n",
        "print(b)"
      ]
    },
    {
      "cell_type": "markdown",
      "metadata": {
        "id": "jSKwM0S0PwwP"
      },
      "source": [
        "#### 8.  Reverse a vector (first element becomes last) (★☆☆) \n",
        "(**hint**: array\\[::-1\\])"
      ]
    },
    {
      "cell_type": "code",
      "execution_count": 26,
      "metadata": {
        "id": "t_3uH8fdPwwP",
        "colab": {
          "base_uri": "https://localhost:8080/"
        },
        "outputId": "be60b0b5-661d-42fa-a437-40b009beb330"
      },
      "outputs": [
        {
          "output_type": "stream",
          "name": "stdout",
          "text": [
            "[48 47 46 45 44 43 42 41 40 39 38 37 36 35 34 33 32 31 30 29 28 27 26 25\n",
            " 24 23 22 21 20 19 18 17 16 15 14 13 12 11 10]\n"
          ]
        }
      ],
      "source": [
        "c = b[::-1]\n",
        "print(c)"
      ]
    },
    {
      "cell_type": "markdown",
      "metadata": {
        "id": "mvUBQPjsPwwP"
      },
      "source": [
        "#### 9.  Create a 3x3 matrix with values ranging from 0 to 8 (★☆☆) \n",
        "(**hint**: reshape)"
      ]
    },
    {
      "cell_type": "code",
      "execution_count": 25,
      "metadata": {
        "id": "hClkeDstPwwQ",
        "colab": {
          "base_uri": "https://localhost:8080/"
        },
        "outputId": "3fea443e-8d84-4747-c16a-1684d5a3d16a"
      },
      "outputs": [
        {
          "output_type": "stream",
          "name": "stdout",
          "text": [
            "[[0 1 2]\n",
            " [3 4 5]\n",
            " [6 7 8]]\n"
          ]
        }
      ],
      "source": [
        "d = np.arange(0,9).reshape(3,3)\n",
        "print(d)"
      ]
    },
    {
      "cell_type": "markdown",
      "metadata": {
        "id": "ajlDpqBsPwwQ"
      },
      "source": [
        "#### 10. Find indices of non-zero elements from \\[1,2,0,0,4,0\\] (★☆☆) \n",
        "(**hint**: np.nonzero)"
      ]
    },
    {
      "cell_type": "code",
      "execution_count": 27,
      "metadata": {
        "id": "i8n4FwyYPwwR",
        "colab": {
          "base_uri": "https://localhost:8080/"
        },
        "outputId": "f6298707-bdc4-452e-9542-e100631d97af"
      },
      "outputs": [
        {
          "output_type": "stream",
          "name": "stdout",
          "text": [
            "(array([0, 1, 4]),)\n"
          ]
        }
      ],
      "source": [
        "a = np.array([1,2,0,0,4,0])\n",
        "b = np.nonzero(a)\n",
        "print(b)"
      ]
    },
    {
      "cell_type": "markdown",
      "metadata": {
        "id": "JSq1YZ_JPwwR"
      },
      "source": [
        "#### 11. Create a 3x3 identity matrix (★☆☆) \n",
        "(**hint**: np.eye)"
      ]
    },
    {
      "cell_type": "code",
      "source": [
        "a = np.eye(3)\n",
        "print(a)"
      ],
      "metadata": {
        "colab": {
          "base_uri": "https://localhost:8080/"
        },
        "id": "P2CAwO3VMMa2",
        "outputId": "3048c281-bf62-41a4-897c-a36959d7e29c"
      },
      "execution_count": 28,
      "outputs": [
        {
          "output_type": "stream",
          "name": "stdout",
          "text": [
            "[[1. 0. 0.]\n",
            " [0. 1. 0.]\n",
            " [0. 0. 1.]]\n"
          ]
        }
      ]
    },
    {
      "cell_type": "markdown",
      "metadata": {
        "id": "8GEnA4evPwwR"
      },
      "source": [
        "#### 12. Create a 3x3x3 array with random values (★☆☆) \n",
        "(**hint**: np.random.random)"
      ]
    },
    {
      "cell_type": "code",
      "execution_count": 31,
      "metadata": {
        "collapsed": true,
        "id": "jswpauD8PwwR",
        "colab": {
          "base_uri": "https://localhost:8080/"
        },
        "outputId": "83bb8b80-68a7-429d-f3b4-f04191aaa743"
      },
      "outputs": [
        {
          "output_type": "stream",
          "name": "stdout",
          "text": [
            "[[[5.63938875e-01 7.39324062e-01 5.70819115e-01]\n",
            "  [1.27381642e-02 8.73998245e-01 7.81004598e-01]\n",
            "  [2.38919046e-01 2.73405602e-01 7.13910818e-01]]\n",
            "\n",
            " [[2.29581796e-01 2.30495488e-01 4.03930639e-01]\n",
            "  [5.25422131e-02 4.58165276e-01 9.22081092e-01]\n",
            "  [1.47724089e-01 7.99532687e-01 7.01425300e-01]]\n",
            "\n",
            " [[3.54057043e-04 5.20580837e-01 3.45985800e-02]\n",
            "  [7.14346649e-01 1.24924105e-01 6.60131542e-01]\n",
            "  [4.06365138e-01 1.32093908e-01 5.16556461e-01]]]\n"
          ]
        }
      ],
      "source": [
        "a = np.random.rand(3,3,3)\n",
        "print(a)"
      ]
    },
    {
      "cell_type": "markdown",
      "metadata": {
        "id": "vt401go5PwwS"
      },
      "source": [
        "#### 13. Create a 10x10 array with random values and find the minimum and maximum values (★☆☆) \n",
        "(**hint**: min, max)"
      ]
    },
    {
      "cell_type": "code",
      "execution_count": 38,
      "metadata": {
        "id": "GBUb75wcPwwS",
        "colab": {
          "base_uri": "https://localhost:8080/"
        },
        "outputId": "a97c36cc-5e63-4a0b-96aa-628cf0a427f6"
      },
      "outputs": [
        {
          "output_type": "stream",
          "name": "stdout",
          "text": [
            "[[77 23 80 60 49 89 93 10 86 83]\n",
            " [96 65 52 83 21 66 71 58 11 96]\n",
            " [74 74 78 39 81 82 25 71 16  1]\n",
            " [30 36 51 62 34 23 80 65  2 23]\n",
            " [71 97  8 54 45 43 53 85 81 16]\n",
            " [74 76 93 55 67 15 48 10 39 35]\n",
            " [72 40 45 88 36 44 51 89 28 49]\n",
            " [94 18  9 53 42 93 59 81 14 59]\n",
            " [50 49 52  3 69 96 91 98 42 69]\n",
            " [64 29 43  0 30 30 68 12 61 93]]\n"
          ]
        }
      ],
      "source": [
        "a = np.random.randint(100,size=(10,10))\n",
        "print(a)\n"
      ]
    },
    {
      "cell_type": "code",
      "source": [
        "b = np.min(a)\n",
        "print(b)"
      ],
      "metadata": {
        "colab": {
          "base_uri": "https://localhost:8080/"
        },
        "id": "inbV0g9INOR9",
        "outputId": "e472fcb8-dfc5-4c84-b290-e01939bd45ad"
      },
      "execution_count": 41,
      "outputs": [
        {
          "output_type": "stream",
          "name": "stdout",
          "text": [
            "0\n"
          ]
        }
      ]
    },
    {
      "cell_type": "code",
      "source": [
        "c = np.max(a)\n",
        "print(c)"
      ],
      "metadata": {
        "colab": {
          "base_uri": "https://localhost:8080/"
        },
        "id": "24Dob5yYNk6T",
        "outputId": "5c0fa2ab-3935-46b3-f54e-f521d1d55f26"
      },
      "execution_count": 42,
      "outputs": [
        {
          "output_type": "stream",
          "name": "stdout",
          "text": [
            "98\n"
          ]
        }
      ]
    },
    {
      "cell_type": "markdown",
      "metadata": {
        "id": "rJNiwm97PwwS"
      },
      "source": [
        "#### 14. Create a random vector of size 30 and find the mean value (★☆☆) \n",
        "(**hint**: mean)"
      ]
    },
    {
      "cell_type": "code",
      "execution_count": 47,
      "metadata": {
        "id": "sgysy0H7PwwS",
        "colab": {
          "base_uri": "https://localhost:8080/"
        },
        "outputId": "f112da8a-c366-4bec-cfbe-faf9fa0fbbc7"
      },
      "outputs": [
        {
          "output_type": "stream",
          "name": "stdout",
          "text": [
            "[98 31 17 29 10 93 18 31 78 15 69 31 19 20 22 64 89 97 56 41  4 53 46 61\n",
            " 51 46 65  8 31 34]\n"
          ]
        }
      ],
      "source": [
        "a = np.random.randint(100,size=(30))\n",
        "print(a)"
      ]
    },
    {
      "cell_type": "code",
      "source": [
        "b = np.mean(a)\n",
        "print(b)"
      ],
      "metadata": {
        "colab": {
          "base_uri": "https://localhost:8080/"
        },
        "id": "OKEL7D9dOJv5",
        "outputId": "3a0b3239-4382-49e0-d801-020ab0f28da2"
      },
      "execution_count": 48,
      "outputs": [
        {
          "output_type": "stream",
          "name": "stdout",
          "text": [
            "44.233333333333334\n"
          ]
        }
      ]
    },
    {
      "cell_type": "markdown",
      "metadata": {
        "id": "Lnela_UiPwwS"
      },
      "source": [
        "#### 15. Create a 2d array with 1 on the border and 0 inside (★☆☆) \n",
        "(**hint**: array\\[1:-1, 1:-1\\])"
      ]
    },
    {
      "cell_type": "code",
      "execution_count": 50,
      "metadata": {
        "id": "VnwktQHYPwwS",
        "colab": {
          "base_uri": "https://localhost:8080/"
        },
        "outputId": "ef5d9437-94b3-4287-d116-5db58689479b"
      },
      "outputs": [
        {
          "output_type": "stream",
          "name": "stdout",
          "text": [
            "[[1. 1. 1. 1. 1.]\n",
            " [1. 1. 1. 1. 1.]\n",
            " [1. 1. 1. 1. 1.]\n",
            " [1. 1. 1. 1. 1.]\n",
            " [1. 1. 1. 1. 1.]]\n"
          ]
        }
      ],
      "source": [
        "c = np.ones((5,5))\n",
        "print(c)"
      ]
    },
    {
      "cell_type": "code",
      "source": [
        "c[1:-1,1:-1]=0\n",
        "print(c)"
      ],
      "metadata": {
        "colab": {
          "base_uri": "https://localhost:8080/"
        },
        "id": "c38gZjlWOjCi",
        "outputId": "b3e6dc39-1654-4824-8dc1-eac31dafd4ad"
      },
      "execution_count": 51,
      "outputs": [
        {
          "output_type": "stream",
          "name": "stdout",
          "text": [
            "[[1. 1. 1. 1. 1.]\n",
            " [1. 0. 0. 0. 1.]\n",
            " [1. 0. 0. 0. 1.]\n",
            " [1. 0. 0. 0. 1.]\n",
            " [1. 1. 1. 1. 1.]]\n"
          ]
        }
      ]
    },
    {
      "cell_type": "markdown",
      "metadata": {
        "id": "Tqe0N5G8PwwS"
      },
      "source": [
        "#### 16. How to add a border (filled with 0's) around an existing array? (★☆☆) \n",
        "(**hint**: np.pad)"
      ]
    },
    {
      "cell_type": "code",
      "execution_count": 53,
      "metadata": {
        "id": "WzR-siCzPwwS",
        "colab": {
          "base_uri": "https://localhost:8080/"
        },
        "outputId": "80796af1-db87-49e6-83d1-c41a7cdbe661"
      },
      "outputs": [
        {
          "output_type": "stream",
          "name": "stdout",
          "text": [
            "[[0. 0. 0. 0. 0. 0. 0.]\n",
            " [0. 1. 1. 1. 1. 1. 0.]\n",
            " [0. 1. 0. 0. 0. 1. 0.]\n",
            " [0. 1. 0. 0. 0. 1. 0.]\n",
            " [0. 1. 0. 0. 0. 1. 0.]\n",
            " [0. 1. 1. 1. 1. 1. 0.]\n",
            " [0. 0. 0. 0. 0. 0. 0.]]\n"
          ]
        }
      ],
      "source": [
        "c = np.pad(c, pad_width=1, mode='constant', constant_values=0)\n",
        "print(c)"
      ]
    },
    {
      "cell_type": "markdown",
      "metadata": {
        "id": "PaKZGXsMPwwS"
      },
      "source": [
        "#### 17. What is the result of the following expression? (★☆☆) \n",
        "(**hint**: NaN = not a number, inf = infinity)"
      ]
    },
    {
      "cell_type": "markdown",
      "metadata": {
        "id": "hb27zfvbPwwT"
      },
      "source": [
        "```python\n",
        "0 * np.nan\n",
        "np.nan == np.nan\n",
        "np.inf > np.nan\n",
        "np.nan - np.nan\n",
        "0.3 == 3 * 0.1\n",
        "```"
      ]
    },
    {
      "cell_type": "code",
      "execution_count": 54,
      "metadata": {
        "id": "tQoRvBEHPwwT",
        "colab": {
          "base_uri": "https://localhost:8080/"
        },
        "outputId": "6378f402-5244-432e-aa72-8d408a4f27d1"
      },
      "outputs": [
        {
          "output_type": "stream",
          "name": "stdout",
          "text": [
            "nan\n",
            "False\n",
            "False\n",
            "nan\n",
            "False\n"
          ]
        }
      ],
      "source": [
        "print(0*np.nan)\n",
        "print(np.nan==np.nan)\n",
        "print(np.inf > np.nan)\n",
        "print(np.nan - np.nan)\n",
        "print(0.3 == 3*0.1)"
      ]
    },
    {
      "cell_type": "markdown",
      "metadata": {
        "id": "DQDDqpGtPwwT"
      },
      "source": [
        "#### 18. Create a 5x5 matrix with values 1,2,3,4 just below the diagonal (★☆☆) \n",
        "(**hint**: np.diag)"
      ]
    },
    {
      "cell_type": "code",
      "execution_count": 55,
      "metadata": {
        "id": "LDlAUfpdPwwT",
        "colab": {
          "base_uri": "https://localhost:8080/"
        },
        "outputId": "2cab9377-d274-4a21-b2a9-7eb84b2b918d"
      },
      "outputs": [
        {
          "output_type": "stream",
          "name": "stdout",
          "text": [
            "[[0 0 0 0 0]\n",
            " [1 0 0 0 0]\n",
            " [0 2 0 0 0]\n",
            " [0 0 3 0 0]\n",
            " [0 0 0 4 0]]\n"
          ]
        }
      ],
      "source": [
        "a = np.diag(1+np.arange(4),k=-1)\n",
        "print(a)"
      ]
    },
    {
      "cell_type": "markdown",
      "metadata": {
        "id": "lssmEBpgPwwT"
      },
      "source": [
        "#### 19. Create a 8x8 matrix and fill it with a checkerboard pattern (★☆☆) \n",
        "(**hint**: array\\[::2\\])"
      ]
    },
    {
      "cell_type": "code",
      "execution_count": 56,
      "metadata": {
        "id": "3JGalC6NPwwU",
        "colab": {
          "base_uri": "https://localhost:8080/"
        },
        "outputId": "16d5e7fd-f542-4081-9303-b38e06cfacbf"
      },
      "outputs": [
        {
          "output_type": "stream",
          "name": "stdout",
          "text": [
            "[[0 1 0 1 0 1 0 1]\n",
            " [1 0 1 0 1 0 1 0]\n",
            " [0 1 0 1 0 1 0 1]\n",
            " [1 0 1 0 1 0 1 0]\n",
            " [0 1 0 1 0 1 0 1]\n",
            " [1 0 1 0 1 0 1 0]\n",
            " [0 1 0 1 0 1 0 1]\n",
            " [1 0 1 0 1 0 1 0]]\n"
          ]
        }
      ],
      "source": [
        "b = np.zeros((8,8),dtype=int)\n",
        "b[1::2,::2] = 1\n",
        "b[::2,1::2] = 1\n",
        "print(b)"
      ]
    },
    {
      "cell_type": "markdown",
      "metadata": {
        "id": "wbstj90zPwwU"
      },
      "source": [
        "#### 20. Consider a (6,7,8) shape array, what is the index (x,y,z) of the 100th element? \n",
        "(**hint**: np.unravel_index)"
      ]
    },
    {
      "cell_type": "code",
      "execution_count": 57,
      "metadata": {
        "id": "NQkiGk2fPwwU",
        "colab": {
          "base_uri": "https://localhost:8080/"
        },
        "outputId": "04262552-a2ed-41de-9f8e-6621cf3ae0c8"
      },
      "outputs": [
        {
          "output_type": "stream",
          "name": "stdout",
          "text": [
            "(1, 5, 4)\n"
          ]
        }
      ],
      "source": [
        "print(np.unravel_index(100,(6,7,8)))"
      ]
    },
    {
      "cell_type": "markdown",
      "metadata": {
        "id": "YRl7_h9qPwwU"
      },
      "source": [
        "#### 21. Create a checkerboard 8x8 matrix using the tile function (★☆☆) \n",
        "(**hint**: np.tile)"
      ]
    },
    {
      "cell_type": "code",
      "execution_count": 58,
      "metadata": {
        "id": "LHQcpOhcPwwV",
        "colab": {
          "base_uri": "https://localhost:8080/"
        },
        "outputId": "fe3f597d-e635-4421-bc4b-8fe069c1cf95"
      },
      "outputs": [
        {
          "output_type": "stream",
          "name": "stdout",
          "text": [
            "[[0 1 0 1 0 1 0 1]\n",
            " [1 0 1 0 1 0 1 0]\n",
            " [0 1 0 1 0 1 0 1]\n",
            " [1 0 1 0 1 0 1 0]\n",
            " [0 1 0 1 0 1 0 1]\n",
            " [1 0 1 0 1 0 1 0]\n",
            " [0 1 0 1 0 1 0 1]\n",
            " [1 0 1 0 1 0 1 0]]\n"
          ]
        }
      ],
      "source": [
        "a = np.tile( np.array([[0,1],[1,0]]), (4,4))\n",
        "print(a)"
      ]
    },
    {
      "cell_type": "markdown",
      "metadata": {
        "id": "4wt7sEvBPwwV"
      },
      "source": [
        "#### 22. Normalize a 5x5 random matrix (★☆☆) \n",
        "(**hint**: (x - min) / (max - min))"
      ]
    },
    {
      "cell_type": "code",
      "execution_count": 59,
      "metadata": {
        "id": "9m7GN8SfPwwV",
        "colab": {
          "base_uri": "https://localhost:8080/"
        },
        "outputId": "94a276d2-81c8-4b0b-9b55-f9395d8666c5"
      },
      "outputs": [
        {
          "output_type": "stream",
          "name": "stdout",
          "text": [
            "[[0.24528889 0.27181014 0.36846451 0.37737586 0.93466691]\n",
            " [1.         0.64543472 0.96721584 0.34002274 0.17528035]\n",
            " [0.         0.68533127 0.35779539 0.40428695 0.12758992]\n",
            " [0.59292403 0.55650504 0.14646165 0.68797683 0.36893309]\n",
            " [0.91583259 0.55542614 0.71073776 0.83081712 0.79987307]]\n"
          ]
        }
      ],
      "source": [
        "a = np.random.random((5,5))\n",
        "a_max, a_min = a.max(), a.min()\n",
        "a = (a - a_min)/(a_max - a_min)\n",
        "print(a)"
      ]
    },
    {
      "cell_type": "markdown",
      "metadata": {
        "id": "nh24smsqPwwV"
      },
      "source": [
        "#### 23. Create a custom dtype that describes a color as four unsigned bytes (RGBA) (★☆☆) \n",
        "(**hint**: np.dtype)"
      ]
    },
    {
      "cell_type": "code",
      "execution_count": 67,
      "metadata": {
        "collapsed": true,
        "id": "45KcW1GIPwwW",
        "colab": {
          "base_uri": "https://localhost:8080/"
        },
        "outputId": "a0edca66-d25a-43a5-ef82-f22597ad1f45"
      },
      "outputs": [
        {
          "output_type": "stream",
          "name": "stdout",
          "text": [
            "[('r', 'u1', (1,)), ('g', 'u1', (1,)), ('b', 'u1', (1,)), ('a', 'u1', (1,))]\n"
          ]
        }
      ],
      "source": [
        "c = np.dtype([(\"r\", np.ubyte, (1,)), (\"g\", np.ubyte, (1,)), (\"b\", np.ubyte, (1,)), (\"a\", np.ubyte, (1,))])\n",
        "print(c)"
      ]
    },
    {
      "cell_type": "markdown",
      "metadata": {
        "id": "-I8i7UOzPwwW"
      },
      "source": [
        "#### 24. Multiply a 5x3 matrix by a 3x2 matrix (real matrix product) (★☆☆) \n",
        "(**hint**: np.dot | @)"
      ]
    },
    {
      "cell_type": "code",
      "execution_count": 68,
      "metadata": {
        "id": "fazLc_yVPwwW",
        "colab": {
          "base_uri": "https://localhost:8080/"
        },
        "outputId": "9fa8a579-8982-4a70-8647-22f8ccd37153"
      },
      "outputs": [
        {
          "output_type": "stream",
          "name": "stdout",
          "text": [
            "[[3. 3.]\n",
            " [3. 3.]\n",
            " [3. 3.]\n",
            " [3. 3.]\n",
            " [3. 3.]]\n"
          ]
        }
      ],
      "source": [
        "d = np.dot(np.ones((5,3)), np.ones((3,2)))\n",
        "print(d)"
      ]
    },
    {
      "cell_type": "markdown",
      "metadata": {
        "id": "Z4GCrVeZPwwW"
      },
      "source": [
        "#### 25. Given a 1D array, negate all elements which are between 3 and 8, in place. (★☆☆) \n",
        "(**hint**: >, <=)"
      ]
    },
    {
      "cell_type": "code",
      "execution_count": 70,
      "metadata": {
        "id": "Zr0ismrMPwwW",
        "colab": {
          "base_uri": "https://localhost:8080/"
        },
        "outputId": "7b546e7e-ac26-4497-a54d-005d4cea8dba"
      },
      "outputs": [
        {
          "output_type": "stream",
          "name": "stdout",
          "text": [
            "[ 0  1  2  3 -4 -5 -6 -7 -8  9 10]\n"
          ]
        }
      ],
      "source": [
        "a = np.arange(11)\n",
        "a[(3 < a) & (a <= 8)] *= -1\n",
        "print(a)"
      ]
    },
    {
      "cell_type": "markdown",
      "metadata": {
        "id": "lcGokYzFPwwW"
      },
      "source": [
        "#### 26. What is the output of the following script? (★☆☆) \n",
        "(**hint**: np.sum)"
      ]
    },
    {
      "cell_type": "markdown",
      "metadata": {
        "id": "nIX3qplAPwwX"
      },
      "source": [
        "```python\n",
        "# Author: Jake VanderPlas\n",
        "\n",
        "print(sum(range(5),-1))\n",
        "from numpy import *\n",
        "print(sum(range(5),-1))\n",
        "```"
      ]
    },
    {
      "cell_type": "code",
      "execution_count": 71,
      "metadata": {
        "id": "rY5eM1ezPwwX",
        "colab": {
          "base_uri": "https://localhost:8080/"
        },
        "outputId": "da643ba3-c69e-4619-a893-6345c2859938"
      },
      "outputs": [
        {
          "output_type": "stream",
          "name": "stdout",
          "text": [
            "9\n",
            "10\n"
          ]
        }
      ],
      "source": [
        "print(sum(range(5),-1))\n",
        "from numpy import *\n",
        "print(sum(range(5),-1))"
      ]
    },
    {
      "cell_type": "markdown",
      "metadata": {
        "id": "Hx9_M3BzPwwX"
      },
      "source": [
        "#### 27. Consider an integer vector Z, which of these expressions are legal? (★☆☆)"
      ]
    },
    {
      "cell_type": "markdown",
      "metadata": {
        "id": "tbrA-6NUPwwX"
      },
      "source": [
        "```python\n",
        "Z**Z\n",
        "2 << Z >> 2\n",
        "Z <- Z\n",
        "1j*Z\n",
        "Z/1/1\n",
        "Z<Z>Z\n",
        "```"
      ]
    },
    {
      "cell_type": "code",
      "execution_count": 72,
      "metadata": {
        "id": "WbUD5PjHPwwX",
        "colab": {
          "base_uri": "https://localhost:8080/"
        },
        "outputId": "0f52f80c-12bd-44db-ce6b-1c8179086571"
      },
      "outputs": [
        {
          "output_type": "stream",
          "name": "stdout",
          "text": [
            "[1. 1. 1. 1. 1.]\n"
          ]
        }
      ],
      "source": [
        "a = np.ones(5)\n",
        "print(a**a)"
      ]
    },
    {
      "cell_type": "code",
      "source": [
        "b = (a <- a)\n",
        "print(b)"
      ],
      "metadata": {
        "colab": {
          "base_uri": "https://localhost:8080/"
        },
        "id": "IeOhq80-UwrL",
        "outputId": "4784ce31-8102-4999-daf4-6778f28c2799"
      },
      "execution_count": 78,
      "outputs": [
        {
          "output_type": "stream",
          "name": "stdout",
          "text": [
            "[False False False False False]\n"
          ]
        }
      ]
    },
    {
      "cell_type": "code",
      "source": [
        "print(1j*a)"
      ],
      "metadata": {
        "colab": {
          "base_uri": "https://localhost:8080/"
        },
        "id": "vXuLzp4GVDUM",
        "outputId": "ad9f1a4c-a79c-4f9b-d19f-7d86f1b2f11c"
      },
      "execution_count": 79,
      "outputs": [
        {
          "output_type": "stream",
          "name": "stdout",
          "text": [
            "[0.+1.j 0.+1.j 0.+1.j 0.+1.j 0.+1.j]\n"
          ]
        }
      ]
    },
    {
      "cell_type": "code",
      "source": [
        "print(a/1/1)"
      ],
      "metadata": {
        "colab": {
          "base_uri": "https://localhost:8080/"
        },
        "id": "x6h26AmdVMNf",
        "outputId": "66ce6ea4-efb8-4257-e7ea-0c9a634fcb87"
      },
      "execution_count": 80,
      "outputs": [
        {
          "output_type": "stream",
          "name": "stdout",
          "text": [
            "[1. 1. 1. 1. 1.]\n"
          ]
        }
      ]
    },
    {
      "cell_type": "markdown",
      "metadata": {
        "id": "qku-WwBYPwwX"
      },
      "source": [
        "#### 28. What are the result of the following expressions?"
      ]
    },
    {
      "cell_type": "markdown",
      "metadata": {
        "id": "r0D34FAoPwwX"
      },
      "source": [
        "```python\n",
        "np.array(0) / np.array(0)\n",
        "np.array(0) // np.array(0)\n",
        "np.array([np.nan]).astype(int).astype(float)\n",
        "```"
      ]
    },
    {
      "cell_type": "code",
      "execution_count": 83,
      "metadata": {
        "id": "Ybau77ruPwwY",
        "colab": {
          "base_uri": "https://localhost:8080/"
        },
        "outputId": "91d58c25-c82c-46b8-8075-b21c813b27f6"
      },
      "outputs": [
        {
          "output_type": "stream",
          "name": "stdout",
          "text": [
            "nan\n"
          ]
        },
        {
          "output_type": "stream",
          "name": "stderr",
          "text": [
            "/usr/local/lib/python3.7/dist-packages/ipykernel_launcher.py:1: RuntimeWarning: invalid value encountered in true_divide\n",
            "  \"\"\"Entry point for launching an IPython kernel.\n"
          ]
        }
      ],
      "source": [
        "a = np.array(0) / np.array(0)\n",
        "print(a)"
      ]
    },
    {
      "cell_type": "code",
      "source": [
        "b = np.array(0) // np.array(0)\n",
        "print(b)"
      ],
      "metadata": {
        "colab": {
          "base_uri": "https://localhost:8080/"
        },
        "id": "iWvll4DeVj5u",
        "outputId": "0a0745a4-af95-4be1-a89c-31534fc745b0"
      },
      "execution_count": 84,
      "outputs": [
        {
          "output_type": "stream",
          "name": "stdout",
          "text": [
            "0\n"
          ]
        },
        {
          "output_type": "stream",
          "name": "stderr",
          "text": [
            "/usr/local/lib/python3.7/dist-packages/ipykernel_launcher.py:1: RuntimeWarning: divide by zero encountered in floor_divide\n",
            "  \"\"\"Entry point for launching an IPython kernel.\n"
          ]
        }
      ]
    },
    {
      "cell_type": "code",
      "source": [
        "c = np.array([np.nan]).astype(int).astype(float)\n",
        "print(c)"
      ],
      "metadata": {
        "colab": {
          "base_uri": "https://localhost:8080/"
        },
        "id": "PnCsE3CiVosK",
        "outputId": "7e892362-73a2-4f01-9bda-58c106476c67"
      },
      "execution_count": 85,
      "outputs": [
        {
          "output_type": "stream",
          "name": "stdout",
          "text": [
            "[-9.22337204e+18]\n"
          ]
        }
      ]
    },
    {
      "cell_type": "markdown",
      "metadata": {
        "id": "TmdArHdtPwwY"
      },
      "source": [
        "#### 29. How to round away from zero a float array ? (★☆☆) \n",
        "(**hint**: np.uniform, np.copysign, np.ceil, np.abs)"
      ]
    },
    {
      "cell_type": "code",
      "execution_count": 86,
      "metadata": {
        "id": "5iErmbdSPwwY",
        "colab": {
          "base_uri": "https://localhost:8080/"
        },
        "outputId": "68ce3dea-564b-423c-b9ea-f74454a18364"
      },
      "outputs": [
        {
          "output_type": "stream",
          "name": "stdout",
          "text": [
            "[-6.  5. -6. -8. -6.  9.  2.  2.  1. -5.]\n"
          ]
        }
      ],
      "source": [
        "a = np.random.uniform(-10,+10,10)\n",
        "print (np.trunc(a + np.copysign(0.5, a)))"
      ]
    },
    {
      "cell_type": "markdown",
      "metadata": {
        "id": "-0LalT5zPwwY"
      },
      "source": [
        "#### 30. How to find common values between two arrays? (★☆☆) \n",
        "(**hint**: np.intersect1d)"
      ]
    },
    {
      "cell_type": "code",
      "execution_count": 88,
      "metadata": {
        "id": "_Lsz0EM1PwwY",
        "colab": {
          "base_uri": "https://localhost:8080/"
        },
        "outputId": "41b6c6ad-6002-412b-d720-884ed3297a2c"
      },
      "outputs": [
        {
          "output_type": "stream",
          "name": "stdout",
          "text": [
            "[19  6  6  9 16  9  0 15  8 14  2  7  3  0  2  5 16 12 17 16] [13 13 16  6  3 14 19 15  4 12  7  4 11 19  3 17  8 19  6 12]\n"
          ]
        }
      ],
      "source": [
        "a = np.random.randint(0,20,20)\n",
        "b = np.random.randint(0,20,20)\n",
        "print(a, b)\n"
      ]
    },
    {
      "cell_type": "code",
      "source": [
        "print(np.intersect1d(a,b))"
      ],
      "metadata": {
        "colab": {
          "base_uri": "https://localhost:8080/"
        },
        "id": "28_Q0TSOWioi",
        "outputId": "76ab2a9e-7916-44a0-a250-63df4168e647"
      },
      "execution_count": 89,
      "outputs": [
        {
          "output_type": "stream",
          "name": "stdout",
          "text": [
            "[ 3  6  7  8 12 14 15 16 17 19]\n"
          ]
        }
      ]
    },
    {
      "cell_type": "markdown",
      "metadata": {
        "id": "Qykmuz6vPwwY"
      },
      "source": [
        "#### 31. How to ignore all numpy warnings (not recommended)? (★☆☆) \n",
        "(**hint**: np.seterr, np.errstate)"
      ]
    },
    {
      "cell_type": "code",
      "execution_count": 91,
      "metadata": {
        "id": "03tKfJdnPwwY",
        "colab": {
          "base_uri": "https://localhost:8080/"
        },
        "outputId": "93e3c1af-0fc5-44d7-836b-3fd8351074a9"
      },
      "outputs": [
        {
          "output_type": "execute_result",
          "data": {
            "text/plain": [
              "array([inf])"
            ]
          },
          "metadata": {},
          "execution_count": 91
        }
      ],
      "source": [
        "defaults = np.seterr(all=\"ignore\")\n",
        "a = np.ones(1) / 0\n",
        "a"
      ]
    },
    {
      "cell_type": "code",
      "source": [
        "b = np.seterr(**defaults)\n",
        "with np.errstate(all=\"ignore\"):\n",
        "    np.arange(3) / 0\n",
        "b"
      ],
      "metadata": {
        "id": "xkjmbfFOa-e2",
        "outputId": "4d205b9d-a446-4938-b760-29afc2a9263e",
        "colab": {
          "base_uri": "https://localhost:8080/"
        }
      },
      "execution_count": 95,
      "outputs": [
        {
          "output_type": "execute_result",
          "data": {
            "text/plain": [
              "{'divide': 'ignore', 'over': 'ignore', 'under': 'ignore', 'invalid': 'ignore'}"
            ]
          },
          "metadata": {},
          "execution_count": 95
        }
      ]
    },
    {
      "cell_type": "markdown",
      "metadata": {
        "id": "c1EXL3kqPwwY"
      },
      "source": [
        "#### 32. Is the following expressions true? (★☆☆) \n",
        "(**hint**: imaginary number)"
      ]
    },
    {
      "cell_type": "markdown",
      "metadata": {
        "id": "A2eR1CL5PwwY"
      },
      "source": [
        "```python\n",
        "np.sqrt(-1) == np.emath.sqrt(-1)\n",
        "```"
      ]
    },
    {
      "cell_type": "code",
      "execution_count": 96,
      "metadata": {
        "id": "2cc4Sy3ZPwwY",
        "colab": {
          "base_uri": "https://localhost:8080/"
        },
        "outputId": "4a30c0b7-bed3-4fc3-996b-7c033e04f85a"
      },
      "outputs": [
        {
          "output_type": "execute_result",
          "data": {
            "text/plain": [
              "False"
            ]
          },
          "metadata": {},
          "execution_count": 96
        }
      ],
      "source": [
        "a =(np.sqrt(-1) == np.emath.sqrt(-1))\n",
        "a"
      ]
    },
    {
      "cell_type": "markdown",
      "metadata": {
        "id": "OgxsJEr3PwwY"
      },
      "source": [
        "#### 33. How to get the dates of yesterday, today and tomorrow? (★☆☆) \n",
        "(**hint**: np.datetime64, np.timedelta64)"
      ]
    },
    {
      "cell_type": "code",
      "execution_count": 97,
      "metadata": {
        "collapsed": true,
        "id": "2IZm8-03PwwZ",
        "colab": {
          "base_uri": "https://localhost:8080/"
        },
        "outputId": "c590d72d-6e3d-4690-867d-7789bacf5c27"
      },
      "outputs": [
        {
          "output_type": "stream",
          "name": "stdout",
          "text": [
            "2022-11-13\n",
            "2022-11-14\n",
            "2022-11-15\n"
          ]
        }
      ],
      "source": [
        "yesterday = np.datetime64('today') - np.timedelta64(1)\n",
        "print(yesterday)\n",
        "today = np.datetime64('today')\n",
        "print(today)\n",
        "tomorrow  = np.datetime64('today') + np.timedelta64(1)\n",
        "print(tomorrow)"
      ]
    },
    {
      "cell_type": "markdown",
      "metadata": {
        "id": "xwyGQ9KqPwwZ"
      },
      "source": [
        "#### 34. How to get all the dates corresponding to the month of July 2016? (★★☆) \n",
        "(**hint**: np.arange(dtype=datetime64\\['D'\\]))"
      ]
    },
    {
      "cell_type": "code",
      "execution_count": 98,
      "metadata": {
        "id": "pFNTP0JmPwwZ",
        "colab": {
          "base_uri": "https://localhost:8080/"
        },
        "outputId": "247134b3-1e6b-48b5-9fa7-95944c604dce"
      },
      "outputs": [
        {
          "output_type": "stream",
          "name": "stdout",
          "text": [
            "['2016-07-01' '2016-07-02' '2016-07-03' '2016-07-04' '2016-07-05'\n",
            " '2016-07-06' '2016-07-07' '2016-07-08' '2016-07-09' '2016-07-10'\n",
            " '2016-07-11' '2016-07-12' '2016-07-13' '2016-07-14' '2016-07-15'\n",
            " '2016-07-16' '2016-07-17' '2016-07-18' '2016-07-19' '2016-07-20'\n",
            " '2016-07-21' '2016-07-22' '2016-07-23' '2016-07-24' '2016-07-25'\n",
            " '2016-07-26' '2016-07-27' '2016-07-28' '2016-07-29' '2016-07-30'\n",
            " '2016-07-31']\n"
          ]
        }
      ],
      "source": [
        "a = np.arange('2016-07', '2016-08', dtype='datetime64[D]')\n",
        "print(a)"
      ]
    },
    {
      "cell_type": "markdown",
      "metadata": {
        "id": "dHcQl9vvPwwZ"
      },
      "source": [
        "#### 35. How to compute ((A+B)\\*(-A/2)) in place (without copy)? (★★☆) \n",
        "(**hint**: np.add(out=), np.negative(out=), np.multiply(out=), np.divide(out=))"
      ]
    },
    {
      "cell_type": "code",
      "execution_count": 99,
      "metadata": {
        "id": "CiCw393LPwwZ",
        "colab": {
          "base_uri": "https://localhost:8080/"
        },
        "outputId": "12ae2438-e2ba-4ef0-91fc-fd8e956cae4e"
      },
      "outputs": [
        {
          "output_type": "execute_result",
          "data": {
            "text/plain": [
              "array([-1.5, -1.5, -1.5])"
            ]
          },
          "metadata": {},
          "execution_count": 99
        }
      ],
      "source": [
        "A = np.ones(3)*1\n",
        "B = np.ones(3)*2\n",
        "C = np.ones(3)*3\n",
        "np.add(A,B,out=B)\n",
        "np.divide(A,2,out=A)\n",
        "np.negative(A,out=A)\n",
        "np.multiply(A,B,out=A)"
      ]
    },
    {
      "cell_type": "markdown",
      "metadata": {
        "id": "kkRJCojePwwZ"
      },
      "source": [
        "#### 36. Extract the integer part of a random array using 5 different methods (★★☆) \n",
        "(**hint**: %, np.floor, np.ceil, astype, np.trunc)"
      ]
    },
    {
      "cell_type": "code",
      "execution_count": 101,
      "metadata": {
        "id": "tI_gH7tUPwwZ",
        "colab": {
          "base_uri": "https://localhost:8080/"
        },
        "outputId": "1bf27c42-3d7d-4085-f5d8-741092d88a48"
      },
      "outputs": [
        {
          "output_type": "stream",
          "name": "stdout",
          "text": [
            "[0.94238193 3.61883955 4.04261418]\n"
          ]
        }
      ],
      "source": [
        "a = np.random.uniform(0,10,3)\n",
        "print(a)\n"
      ]
    },
    {
      "cell_type": "code",
      "source": [
        "print(np.floor(a))\n"
      ],
      "metadata": {
        "id": "hpgqMfE5cL71",
        "outputId": "f069e7d3-119b-4add-8a96-0f9ecba339e6",
        "colab": {
          "base_uri": "https://localhost:8080/"
        }
      },
      "execution_count": 104,
      "outputs": [
        {
          "output_type": "stream",
          "name": "stdout",
          "text": [
            "[0. 3. 4.]\n"
          ]
        }
      ]
    },
    {
      "cell_type": "code",
      "source": [
        "print(np.ceil(a))"
      ],
      "metadata": {
        "id": "RxewimhjcOrN",
        "outputId": "1a4a2892-cef2-41be-913d-6eb80a2bef74",
        "colab": {
          "base_uri": "https://localhost:8080/"
        }
      },
      "execution_count": 105,
      "outputs": [
        {
          "output_type": "stream",
          "name": "stdout",
          "text": [
            "[1. 4. 5.]\n"
          ]
        }
      ]
    },
    {
      "cell_type": "code",
      "source": [
        "print(a.astype(int))\n"
      ],
      "metadata": {
        "id": "ToH8qQTqcZOH",
        "outputId": "04349a1f-4728-46d7-fbec-105ddb7feedd",
        "colab": {
          "base_uri": "https://localhost:8080/"
        }
      },
      "execution_count": 106,
      "outputs": [
        {
          "output_type": "stream",
          "name": "stdout",
          "text": [
            "[0 3 4]\n"
          ]
        }
      ]
    },
    {
      "cell_type": "code",
      "source": [
        "print(np.trunc(a))"
      ],
      "metadata": {
        "id": "1dk1VZH1cbLa",
        "outputId": "3fffda7a-7694-43ef-b20f-d72f02cd445b",
        "colab": {
          "base_uri": "https://localhost:8080/"
        }
      },
      "execution_count": 107,
      "outputs": [
        {
          "output_type": "stream",
          "name": "stdout",
          "text": [
            "[0. 3. 4.]\n"
          ]
        }
      ]
    },
    {
      "cell_type": "markdown",
      "metadata": {
        "id": "oEnwa90HPwwZ"
      },
      "source": [
        "#### 37. Create a 5x5 matrix with row values ranging from 0 to 4 (★★☆) \n",
        "(**hint**: np.arange)"
      ]
    },
    {
      "cell_type": "code",
      "execution_count": 109,
      "metadata": {
        "id": "9xeRClXxPwwZ",
        "colab": {
          "base_uri": "https://localhost:8080/"
        },
        "outputId": "11fd39a8-e565-4736-e635-52618b18e666"
      },
      "outputs": [
        {
          "output_type": "stream",
          "name": "stdout",
          "text": [
            "[[0. 1. 2. 3. 4.]\n",
            " [0. 1. 2. 3. 4.]\n",
            " [0. 1. 2. 3. 4.]\n",
            " [0. 1. 2. 3. 4.]\n",
            " [0. 1. 2. 3. 4.]]\n"
          ]
        }
      ],
      "source": [
        "b = np.zeros((5,5))\n",
        "b += np.arange(5)\n",
        "print(b)"
      ]
    },
    {
      "cell_type": "markdown",
      "metadata": {
        "id": "iEfaUkjpPwwZ"
      },
      "source": [
        "#### 38. Consider a generator function that generates 10 integers and use it to build an array (★☆☆) \n",
        "(**hint**: np.fromiter)"
      ]
    },
    {
      "cell_type": "code",
      "execution_count": 110,
      "metadata": {
        "id": "--j9maJBPwwZ",
        "colab": {
          "base_uri": "https://localhost:8080/"
        },
        "outputId": "e0dc6e71-01d9-427a-acd3-eba5df376c16"
      },
      "outputs": [
        {
          "output_type": "stream",
          "name": "stdout",
          "text": [
            "[0. 1. 2. 3. 4. 5. 6. 7. 8. 9.]\n"
          ]
        }
      ],
      "source": [
        "def generate():\n",
        "  for x in range(10):\n",
        "    yield x\n",
        "a = np.fromiter(generate(),dtype=float,count=-1)\n",
        "print(a)"
      ]
    },
    {
      "cell_type": "markdown",
      "metadata": {
        "id": "EApGgGwoPwwZ"
      },
      "source": [
        "#### 39. Create a vector of size 10 with values ranging from 0 to 1, both excluded (★★☆) \n",
        "(**hint**: np.linspace)"
      ]
    },
    {
      "cell_type": "code",
      "execution_count": 111,
      "metadata": {
        "id": "tINF-qHVPwwa",
        "colab": {
          "base_uri": "https://localhost:8080/"
        },
        "outputId": "76c5eb11-4bca-43c9-d0ae-19da8b867097"
      },
      "outputs": [
        {
          "output_type": "stream",
          "name": "stdout",
          "text": [
            "[0.09090909 0.18181818 0.27272727 0.36363636 0.45454545 0.54545455\n",
            " 0.63636364 0.72727273 0.81818182 0.90909091]\n"
          ]
        }
      ],
      "source": [
        "b = np.linspace(0,1,11,endpoint=False)[1:]\n",
        "print(b)"
      ]
    },
    {
      "cell_type": "markdown",
      "metadata": {
        "id": "2n8sbQdXPwwa"
      },
      "source": [
        "#### 40. Create a random vector of size 10 and sort it (★★☆) \n",
        "(**hint**: sort)"
      ]
    },
    {
      "cell_type": "code",
      "execution_count": 112,
      "metadata": {
        "id": "hQ2RgLm5Pwwa",
        "colab": {
          "base_uri": "https://localhost:8080/"
        },
        "outputId": "50179339-3d9b-4381-ff32-87e536f120d7"
      },
      "outputs": [
        {
          "output_type": "stream",
          "name": "stdout",
          "text": [
            "[0.06096872 0.07137753 0.22953839 0.3097178  0.31373996 0.31738351\n",
            " 0.53858569 0.80609615 0.81807496 0.85479434]\n"
          ]
        }
      ],
      "source": [
        "b = np.random.random(10)\n",
        "b.sort()\n",
        "print(b)"
      ]
    },
    {
      "cell_type": "markdown",
      "metadata": {
        "id": "QlRWmxpGPwwa"
      },
      "source": [
        "#### 41. How to sum a small array faster than np.sum? (★★☆) \n",
        "(**hint**: np.add.reduce)"
      ]
    },
    {
      "cell_type": "code",
      "execution_count": 113,
      "metadata": {
        "id": "j7DlGdK_Pwwa",
        "colab": {
          "base_uri": "https://localhost:8080/"
        },
        "outputId": "fe5eedf0-aec5-4057-d1ba-9875b126428a"
      },
      "outputs": [
        {
          "output_type": "execute_result",
          "data": {
            "text/plain": [
              "45"
            ]
          },
          "metadata": {},
          "execution_count": 113
        }
      ],
      "source": [
        "c = np.arange(10)\n",
        "np.add.reduce(c)"
      ]
    },
    {
      "cell_type": "markdown",
      "metadata": {
        "id": "u4OiFOPSPwwa"
      },
      "source": [
        "#### 42. Consider two random array A and B, check if they are equal (★★☆) \n",
        "(**hint**: np.allclose, np.array\\_equal)"
      ]
    },
    {
      "cell_type": "code",
      "execution_count": 114,
      "metadata": {
        "id": "Y2u-nPj9Pwwa",
        "colab": {
          "base_uri": "https://localhost:8080/"
        },
        "outputId": "3418d0a5-7927-4532-b8a8-17ff674b9665"
      },
      "outputs": [
        {
          "output_type": "stream",
          "name": "stdout",
          "text": [
            "[0 1 1 2] [1 1 0 0]\n"
          ]
        }
      ],
      "source": [
        "A = np.random.randint(0,3,4)\n",
        "B = np.random.randint(0,3,4)\n",
        "print(A, B)"
      ]
    },
    {
      "cell_type": "code",
      "source": [
        "e = np.allclose(A,B)\n",
        "print(e)"
      ],
      "metadata": {
        "id": "-1CRCWiidNWY",
        "outputId": "337695c5-75f2-460d-a0e8-12d097b62dd6",
        "colab": {
          "base_uri": "https://localhost:8080/"
        }
      },
      "execution_count": 115,
      "outputs": [
        {
          "output_type": "stream",
          "name": "stdout",
          "text": [
            "False\n"
          ]
        }
      ]
    },
    {
      "cell_type": "code",
      "source": [
        "e = np.array_equal(A,B)\n",
        "print(e)"
      ],
      "metadata": {
        "id": "AQHxi7OsdSrY",
        "outputId": "bc960cd7-0a05-4e54-fcad-60e85fb1ab37",
        "colab": {
          "base_uri": "https://localhost:8080/"
        }
      },
      "execution_count": 116,
      "outputs": [
        {
          "output_type": "stream",
          "name": "stdout",
          "text": [
            "False\n"
          ]
        }
      ]
    },
    {
      "cell_type": "markdown",
      "metadata": {
        "id": "cXMmMaduPwwa"
      },
      "source": [
        "#### 43. Make an array immutable (read-only) (★★☆) \n",
        "(**hint**: flags.writeable)"
      ]
    },
    {
      "cell_type": "code",
      "execution_count": 117,
      "metadata": {
        "id": "bAeFqmYPPwwa",
        "colab": {
          "base_uri": "https://localhost:8080/"
        },
        "outputId": "645f8b37-5f4f-4610-c2d4-3a59962191c1"
      },
      "outputs": [
        {
          "output_type": "stream",
          "name": "stdout",
          "text": [
            "assignment destination is read-only\n"
          ]
        }
      ],
      "source": [
        "a = np.zeros(10)\n",
        "a.flags.writeable = False\n",
        "try:\n",
        "    a[0] = 1\n",
        "except Exception as e:\n",
        "    print(e)"
      ]
    },
    {
      "cell_type": "markdown",
      "metadata": {
        "id": "jcibjjH8Pwwa"
      },
      "source": [
        "#### 44. Consider a random 10x2 matrix representing cartesian coordinates, convert them to polar coordinates (★★☆) \n",
        "(**hint**: np.sqrt, np.arctan2)"
      ]
    },
    {
      "cell_type": "code",
      "execution_count": 118,
      "metadata": {
        "id": "zpARQb27Pwwa",
        "colab": {
          "base_uri": "https://localhost:8080/"
        },
        "outputId": "00e2c3b9-de9e-4f53-cd88-d5846f52a38a"
      },
      "outputs": [
        {
          "output_type": "stream",
          "name": "stdout",
          "text": [
            "[0.33323907 0.32157256 0.97451131 0.94663266 0.51541878 0.48492617\n",
            " 0.15608359 0.8676539  0.60306258 0.96788327]\n"
          ]
        }
      ],
      "source": [
        "a = np.random.random((10,2))\n",
        "x,y = a[:,0], a[:,1]\n",
        "b = np.sqrt(x**2+y**2)\n",
        "print(b)\n"
      ]
    },
    {
      "cell_type": "code",
      "source": [
        "c = np.arctan2(y,x)\n",
        "print(c)"
      ],
      "metadata": {
        "id": "im8flMDcd2sd",
        "outputId": "4866e574-c4ab-4320-e9f3-d2adc0762990",
        "colab": {
          "base_uri": "https://localhost:8080/"
        }
      },
      "execution_count": 119,
      "outputs": [
        {
          "output_type": "stream",
          "name": "stdout",
          "text": [
            "[0.14390458 1.05350623 0.21974656 0.11973853 0.85550903 0.0424599\n",
            " 1.19322635 0.8979136  1.02261025 1.28883286]\n"
          ]
        }
      ]
    },
    {
      "cell_type": "markdown",
      "metadata": {
        "id": "wwJ86dh_Pwwa"
      },
      "source": [
        "#### 45. Create random vector of size 10 and replace the maximum value by 0 (★★☆) \n",
        "(**hint**: argmax)"
      ]
    },
    {
      "cell_type": "code",
      "execution_count": 120,
      "metadata": {
        "id": "GJxFPqgaPwwa",
        "colab": {
          "base_uri": "https://localhost:8080/"
        },
        "outputId": "bee5e1ef-c129-473f-d937-2fe09981cfd9"
      },
      "outputs": [
        {
          "output_type": "stream",
          "name": "stdout",
          "text": [
            "[0.         0.62810818 0.77057839 0.6552624  0.26354837 0.24376903\n",
            " 0.19971954 0.79994039 0.70414187 0.7337817 ]\n"
          ]
        }
      ],
      "source": [
        "a = np.random.random(10)\n",
        "a[a.argmax()] = 0\n",
        "print(a)"
      ]
    },
    {
      "cell_type": "markdown",
      "metadata": {
        "id": "El4uPhTNPwwa"
      },
      "source": [
        "#### 46. Create a structured array with `x` and `y` coordinates covering the \\[0,1\\]x\\[0,1\\] area (★★☆) \n",
        "(**hint**: np.meshgrid)"
      ]
    },
    {
      "cell_type": "code",
      "source": [
        "a = np.zeros((5,5), [('x',float),('y',float)])\n",
        "a['x'], a['y'] = np.meshgrid(np.linspace(0,1,5),np.linspace(0,1,5))\n",
        "print(a)"
      ],
      "metadata": {
        "id": "-8_FAsNZeooF",
        "outputId": "17573af5-60a4-4986-c65e-5a5154a53177",
        "colab": {
          "base_uri": "https://localhost:8080/"
        }
      },
      "execution_count": 122,
      "outputs": [
        {
          "output_type": "stream",
          "name": "stdout",
          "text": [
            "[[(0.  , 0.  ) (0.25, 0.  ) (0.5 , 0.  ) (0.75, 0.  ) (1.  , 0.  )]\n",
            " [(0.  , 0.25) (0.25, 0.25) (0.5 , 0.25) (0.75, 0.25) (1.  , 0.25)]\n",
            " [(0.  , 0.5 ) (0.25, 0.5 ) (0.5 , 0.5 ) (0.75, 0.5 ) (1.  , 0.5 )]\n",
            " [(0.  , 0.75) (0.25, 0.75) (0.5 , 0.75) (0.75, 0.75) (1.  , 0.75)]\n",
            " [(0.  , 1.  ) (0.25, 1.  ) (0.5 , 1.  ) (0.75, 1.  ) (1.  , 1.  )]]\n"
          ]
        }
      ]
    },
    {
      "cell_type": "markdown",
      "metadata": {
        "id": "FnwV_qeDPwwa"
      },
      "source": [
        "####  47. Given two arrays, X and Y, construct the Cauchy matrix C (Cij =1/(xi - yj)) \n",
        "(**hint**: np.subtract.outer)"
      ]
    },
    {
      "cell_type": "code",
      "execution_count": 123,
      "metadata": {
        "id": "uGyW9HdbPwwb",
        "colab": {
          "base_uri": "https://localhost:8080/"
        },
        "outputId": "9edc48cc-4653-4db8-c954-6404bde4eec4"
      },
      "outputs": [
        {
          "output_type": "stream",
          "name": "stdout",
          "text": [
            "3638.163637117973\n"
          ]
        }
      ],
      "source": [
        "X = np.arange(8)\n",
        "Y = X + 0.5\n",
        "C = 1.0 / np.subtract.outer(X, Y)\n",
        "print(np.linalg.det(C))"
      ]
    },
    {
      "cell_type": "markdown",
      "metadata": {
        "id": "yuRHG2rxPwwb"
      },
      "source": [
        "#### 48. Print the minimum and maximum representable value for each numpy scalar type (★★☆) \n",
        "(**hint**: np.iinfo, np.finfo, eps)"
      ]
    },
    {
      "cell_type": "code",
      "execution_count": 124,
      "metadata": {
        "id": "uzMp_LV_Pwwb",
        "colab": {
          "base_uri": "https://localhost:8080/"
        },
        "outputId": "7ee9595d-3440-41f6-8c0c-cb10eb3f1b6d"
      },
      "outputs": [
        {
          "output_type": "stream",
          "name": "stdout",
          "text": [
            "-128\n",
            "127\n",
            "-2147483648\n",
            "2147483647\n",
            "-9223372036854775808\n",
            "9223372036854775807\n"
          ]
        }
      ],
      "source": [
        "for dtype in [np.int8, np.int32, np.int64]:\n",
        "  print(np.iinfo(dtype).min)\n",
        "  print(np.iinfo(dtype).max)"
      ]
    },
    {
      "cell_type": "code",
      "source": [
        "for dtype in [np.float32, np.float64]:\n",
        " print(np.finfo(dtype).min)\n",
        " print(np.finfo(dtype).max)\n",
        " print(np.finfo(dtype).eps)"
      ],
      "metadata": {
        "id": "gDLrccjBe8zt",
        "outputId": "ff799533-08af-48b1-d6a3-af141c137c41",
        "colab": {
          "base_uri": "https://localhost:8080/"
        }
      },
      "execution_count": 125,
      "outputs": [
        {
          "output_type": "stream",
          "name": "stdout",
          "text": [
            "-3.4028235e+38\n",
            "3.4028235e+38\n",
            "1.1920929e-07\n",
            "-1.7976931348623157e+308\n",
            "1.7976931348623157e+308\n",
            "2.220446049250313e-16\n"
          ]
        }
      ]
    },
    {
      "cell_type": "markdown",
      "metadata": {
        "id": "azRGPFzBPwwb"
      },
      "source": [
        "#### 49. How to print all the values of an array? (★★☆) \n",
        "(**hint**: np.set\\_printoptions)"
      ]
    },
    {
      "cell_type": "code",
      "execution_count": 126,
      "metadata": {
        "id": "UnwMFYNXPwwb",
        "colab": {
          "base_uri": "https://localhost:8080/"
        },
        "outputId": "eaa52e69-e6f6-4119-bbd6-e87ea7a72b93"
      },
      "outputs": [
        {
          "output_type": "stream",
          "name": "stdout",
          "text": [
            "[[0.51621701 0.62175513 0.92878449 0.89865929]\n",
            " [0.37514109 0.98948266 0.99888263 0.64954027]\n",
            " [0.94838919 0.97084275 0.52619203 0.09786381]\n",
            " [0.71743737 0.53241826 0.60683735 0.69841938]]\n"
          ]
        }
      ],
      "source": [
        "np.set_printoptions(threshold=float(\"inf\"))\n",
        "a = np.random.random((4,4))\n",
        "print(a)"
      ]
    },
    {
      "cell_type": "markdown",
      "metadata": {
        "id": "B_Ov6G4aPwwb"
      },
      "source": [
        "#### 50. How to find the closest value (to a given scalar) in a vector? (★★☆) \n",
        "(**hint**: argmin)"
      ]
    },
    {
      "cell_type": "code",
      "execution_count": 127,
      "metadata": {
        "id": "ffybmA-OPwwb",
        "colab": {
          "base_uri": "https://localhost:8080/"
        },
        "outputId": "9aa3b4d0-4e56-4cf3-8ecd-994b36d64ee7"
      },
      "outputs": [
        {
          "output_type": "stream",
          "name": "stdout",
          "text": [
            "71.38339879407062\n",
            "71\n"
          ]
        }
      ],
      "source": [
        "a = np.arange(100)\n",
        "b = np.random.uniform(0,100)\n",
        "print(b)\n",
        "index = (np.abs(a-b)).argmin()\n",
        "print(a[index])"
      ]
    },
    {
      "cell_type": "markdown",
      "metadata": {
        "id": "kx01HQqsPwwb"
      },
      "source": [
        "#### 51. Create a structured array representing a position (x,y) and a color (r,g,b) (★★☆) \n",
        "(**hint**: dtype)"
      ]
    },
    {
      "cell_type": "code",
      "execution_count": null,
      "metadata": {
        "id": "AHphu_dFPwwb"
      },
      "outputs": [],
      "source": []
    },
    {
      "cell_type": "markdown",
      "metadata": {
        "id": "nDGIMkMRPwwb"
      },
      "source": [
        "#### 52. Consider a random vector with shape (100,2) representing coordinates, find point by point distances (★★☆) \n",
        "(**hint**: np.atleast\\_2d, T, np.sqrt)"
      ]
    },
    {
      "cell_type": "code",
      "source": [],
      "metadata": {
        "id": "6Uv_glCEhnhe"
      },
      "execution_count": null,
      "outputs": []
    },
    {
      "cell_type": "markdown",
      "metadata": {
        "id": "1NQzgbmXPwwb"
      },
      "source": [
        "#### 53. How to convert a float (32 bits) array into an integer (32 bits) in place? \n",
        "(**hint**: astype(copy=False))"
      ]
    },
    {
      "cell_type": "code",
      "execution_count": 128,
      "metadata": {
        "id": "HRNByyDPPwwb",
        "colab": {
          "base_uri": "https://localhost:8080/"
        },
        "outputId": "05a25429-cddc-42a8-c439-6f086c66b1a1"
      },
      "outputs": [
        {
          "output_type": "stream",
          "name": "stdout",
          "text": [
            "[86.90359 80.43896  6.16967]\n",
            "[86 80  6]\n",
            "True\n"
          ]
        }
      ],
      "source": [
        "a = (np.random.rand(3)*100).astype(np.float32)\n",
        "print(a)\n",
        "b = a.view(np.int32)\n",
        "b[:] = a\n",
        "print(b)\n",
        "print(b.base is a)"
      ]
    },
    {
      "cell_type": "markdown",
      "metadata": {
        "id": "NZIO2_rtPwwb"
      },
      "source": [
        "#### 54. How to read the following file? (★★☆) \n",
        "(**hint**: np.genfromtxt)"
      ]
    },
    {
      "cell_type": "markdown",
      "metadata": {
        "id": "23LmoY4xPwwb"
      },
      "source": [
        "```\n",
        "1, 2, 3, 4, 5\n",
        "6,  ,  , 7, 8\n",
        " ,  , 9,10,11\n",
        "```"
      ]
    },
    {
      "cell_type": "code",
      "execution_count": 130,
      "metadata": {
        "id": "TW3gqV8XPwwc",
        "colab": {
          "base_uri": "https://localhost:8080/"
        },
        "outputId": "4f853917-7c46-4fb4-b50d-fd9b50171332"
      },
      "outputs": [
        {
          "output_type": "stream",
          "name": "stdout",
          "text": [
            "[ 1  2  3  4 56 -1 -1  7  8 -1  9 10 11]\n"
          ]
        }
      ],
      "source": [
        "from io import StringIO\n",
        "a = StringIO('''1, 2, 3, 4, 56,  ,  , 7, 8,  , 9,10,11''')\n",
        "b = np.genfromtxt(a, delimiter=\",\", dtype=int)\n",
        "print(b)"
      ]
    },
    {
      "cell_type": "markdown",
      "metadata": {
        "id": "O7idwwpkPwwc"
      },
      "source": [
        "#### 55. What is the equivalent of enumerate for numpy arrays? (★★☆) \n",
        "(**hint**: np.ndenumerate, np.ndindex)"
      ]
    },
    {
      "cell_type": "code",
      "execution_count": 131,
      "metadata": {
        "id": "2Ske677lPwwc",
        "colab": {
          "base_uri": "https://localhost:8080/"
        },
        "outputId": "e55387ad-e824-4ae9-9161-cd7fb7b15e4d"
      },
      "outputs": [
        {
          "output_type": "stream",
          "name": "stdout",
          "text": [
            "(0, 0) 0\n",
            "(0, 1) 1\n",
            "(1, 0) 2\n",
            "(1, 1) 3\n"
          ]
        }
      ],
      "source": [
        "a = np.arange(4).reshape(2,2)\n",
        "for index, value in np.ndenumerate(a):\n",
        "  print(index, value)"
      ]
    },
    {
      "cell_type": "code",
      "source": [
        "for x in np.ndindex(a.shape):\n",
        "  print(x, a[x])"
      ],
      "metadata": {
        "id": "GjodcsZCicZh",
        "outputId": "b6eef2bb-795a-44ab-d3bc-b357c1913f79",
        "colab": {
          "base_uri": "https://localhost:8080/"
        }
      },
      "execution_count": 133,
      "outputs": [
        {
          "output_type": "stream",
          "name": "stdout",
          "text": [
            "(0, 0) 0\n",
            "(0, 1) 1\n",
            "(1, 0) 2\n",
            "(1, 1) 3\n"
          ]
        }
      ]
    },
    {
      "cell_type": "markdown",
      "metadata": {
        "id": "6Z9NRwWoPwwc"
      },
      "source": [
        "#### 56. Generate a generic 2D Gaussian-like array (★★☆) \n",
        "(**hint**: np.meshgrid, np.exp)"
      ]
    },
    {
      "cell_type": "code",
      "execution_count": 134,
      "metadata": {
        "id": "_NB2yTKyPwwc",
        "colab": {
          "base_uri": "https://localhost:8080/"
        },
        "outputId": "91a061a8-11a3-4e90-f9ee-66c37ce04bd4"
      },
      "outputs": [
        {
          "output_type": "stream",
          "name": "stdout",
          "text": [
            "(5, 4)\n",
            "[[0.36787944 0.57375342 0.57375342 0.36787944]\n",
            " [0.53526143 0.8348063  0.8348063  0.53526143]\n",
            " [0.60653066 0.94595947 0.94595947 0.60653066]\n",
            " [0.53526143 0.8348063  0.8348063  0.53526143]\n",
            " [0.36787944 0.57375342 0.57375342 0.36787944]]\n"
          ]
        }
      ],
      "source": [
        "a, b = np.meshgrid(np.linspace(-1,1,4), np.linspace(-1,1,5))\n",
        "c = np.sqrt(a*a+b*b)\n",
        "sigma, mu = 1.0, 0.0\n",
        "d = np.exp(-( (c-mu)**2 / ( 2.0 * sigma**2 ) ) )\n",
        "print(d.shape)\n",
        "print(d)"
      ]
    },
    {
      "cell_type": "markdown",
      "metadata": {
        "id": "Fgda94QZPwwc"
      },
      "source": [
        "#### 57. How to randomly place p elements in a 2D array? (★★☆) \n",
        "(**hint**: np.put, np.random.choice)"
      ]
    },
    {
      "cell_type": "code",
      "execution_count": 137,
      "metadata": {
        "id": "rm9tXJ5dPwwc",
        "colab": {
          "base_uri": "https://localhost:8080/"
        },
        "outputId": "eb22825d-3194-4a3f-b91f-a9fa7f71d545"
      },
      "outputs": [
        {
          "output_type": "stream",
          "name": "stdout",
          "text": [
            "[[0. 0. 0. 0. 0. 0. 0. 0. 0. 0.]\n",
            " [0. 0. 0. 0. 0. 0. 0. 0. 0. 0.]\n",
            " [0. 0. 0. 0. 0. 0. 0. 0. 0. 0.]\n",
            " [0. 0. 0. 0. 0. 0. 0. 0. 0. 0.]\n",
            " [0. 0. 0. 1. 0. 1. 0. 0. 0. 0.]\n",
            " [0. 0. 0. 0. 0. 0. 0. 0. 0. 0.]\n",
            " [0. 0. 0. 0. 0. 0. 0. 0. 0. 0.]\n",
            " [0. 0. 0. 0. 0. 0. 0. 0. 0. 0.]\n",
            " [1. 0. 0. 0. 0. 0. 0. 0. 0. 0.]\n",
            " [0. 0. 0. 0. 0. 0. 0. 0. 0. 0.]]\n"
          ]
        }
      ],
      "source": [
        "n = 10\n",
        "p = 3\n",
        "a = np.zeros((n,n))\n",
        "np.put(a, np.random.choice(range(n*n), p, replace=False),1)\n",
        "print(a)"
      ]
    },
    {
      "cell_type": "markdown",
      "metadata": {
        "id": "jeypUhBQPwwc"
      },
      "source": [
        "#### 58. Subtract the mean of each row of a matrix (★★☆) \n",
        "(**hint**: mean(axis=,keepdims=))"
      ]
    },
    {
      "cell_type": "code",
      "execution_count": 138,
      "metadata": {
        "id": "lcYthHXzPwwc",
        "colab": {
          "base_uri": "https://localhost:8080/"
        },
        "outputId": "2a186354-f020-4198-adaf-1cfb4faf51cd"
      },
      "outputs": [
        {
          "output_type": "execute_result",
          "data": {
            "text/plain": [
              "array([[-0.31161803,  0.22624492,  0.17824065,  0.1345089 ,  0.17892025,\n",
              "         0.41360896, -0.43501107, -0.38218659, -0.32951346,  0.32680546],\n",
              "       [-0.06049354, -0.19321756,  0.24463049,  0.18282195,  0.11270236,\n",
              "        -0.55467951,  0.28608895, -0.19385523,  0.29187822, -0.11587613],\n",
              "       [-0.22217368,  0.07751075,  0.17509335,  0.18118737, -0.24623572,\n",
              "         0.29338329, -0.07815461, -0.19531014,  0.1396101 , -0.12491072],\n",
              "       [-0.32932122, -0.12553928,  0.13160818, -0.30867016, -0.49046841,\n",
              "         0.44838024,  0.28003508, -0.20126883,  0.32442307,  0.27082133],\n",
              "       [ 0.30983054,  0.35259919, -0.01855711, -0.20366075,  0.05257512,\n",
              "         0.19060461, -0.0551055 , -0.16185813,  0.09257275, -0.55900072]])"
            ]
          },
          "metadata": {},
          "execution_count": 138
        }
      ],
      "source": [
        "X = np.random.rand(5, 10)\n",
        "Y = X - X.mean(axis=1, keepdims=True)\n",
        "Y"
      ]
    },
    {
      "cell_type": "code",
      "source": [
        "Y = X - X.mean(axis=1).reshape(-1, 1)\n",
        "Y"
      ],
      "metadata": {
        "id": "vforyxn0j7sx",
        "outputId": "d04ff33d-57cb-4e75-c020-4154b1bd8f18",
        "colab": {
          "base_uri": "https://localhost:8080/"
        }
      },
      "execution_count": 140,
      "outputs": [
        {
          "output_type": "execute_result",
          "data": {
            "text/plain": [
              "array([[-0.31161803,  0.22624492,  0.17824065,  0.1345089 ,  0.17892025,\n",
              "         0.41360896, -0.43501107, -0.38218659, -0.32951346,  0.32680546],\n",
              "       [-0.06049354, -0.19321756,  0.24463049,  0.18282195,  0.11270236,\n",
              "        -0.55467951,  0.28608895, -0.19385523,  0.29187822, -0.11587613],\n",
              "       [-0.22217368,  0.07751075,  0.17509335,  0.18118737, -0.24623572,\n",
              "         0.29338329, -0.07815461, -0.19531014,  0.1396101 , -0.12491072],\n",
              "       [-0.32932122, -0.12553928,  0.13160818, -0.30867016, -0.49046841,\n",
              "         0.44838024,  0.28003508, -0.20126883,  0.32442307,  0.27082133],\n",
              "       [ 0.30983054,  0.35259919, -0.01855711, -0.20366075,  0.05257512,\n",
              "         0.19060461, -0.0551055 , -0.16185813,  0.09257275, -0.55900072]])"
            ]
          },
          "metadata": {},
          "execution_count": 140
        }
      ]
    },
    {
      "cell_type": "markdown",
      "metadata": {
        "id": "gk8JdQwoPwwc"
      },
      "source": [
        "#### 59. How to sort an array by the nth column? (★★☆) \n",
        "(**hint**: argsort)"
      ]
    },
    {
      "cell_type": "code",
      "execution_count": 141,
      "metadata": {
        "id": "CFKzZE2JPwwc",
        "colab": {
          "base_uri": "https://localhost:8080/"
        },
        "outputId": "1279762f-98df-4948-a516-be0e650eaeb1"
      },
      "outputs": [
        {
          "output_type": "stream",
          "name": "stdout",
          "text": [
            "[[1 1 9]\n",
            " [7 0 7]\n",
            " [1 9 3]]\n",
            "[[7 0 7]\n",
            " [1 1 9]\n",
            " [1 9 3]]\n"
          ]
        }
      ],
      "source": [
        "a = np.random.randint(0,10,(3,3))\n",
        "print(a)\n",
        "print(a[a[:,1].argsort()])"
      ]
    },
    {
      "cell_type": "markdown",
      "metadata": {
        "id": "Xl7GbT6HPwwc"
      },
      "source": [
        "#### 60. How to tell if a given 2D array has null columns? (★★☆) \n",
        "(**hint**: any, ~)"
      ]
    },
    {
      "cell_type": "code",
      "execution_count": 142,
      "metadata": {
        "id": "PRQjUaFPPwwc",
        "colab": {
          "base_uri": "https://localhost:8080/"
        },
        "outputId": "f4ca249f-4dac-42ca-ded8-9bd5710879f9"
      },
      "outputs": [
        {
          "output_type": "stream",
          "name": "stdout",
          "text": [
            "True\n"
          ]
        }
      ],
      "source": [
        "a = np.random.randint(0,3,(3,10))\n",
        "print((~a.any(axis=0)).any())"
      ]
    },
    {
      "cell_type": "markdown",
      "metadata": {
        "id": "D4CyIvqLPwwc"
      },
      "source": [
        "#### 61. Find the nearest value from a given value in an array (★★☆) \n",
        "(**hint**: np.abs, argmin, flat)"
      ]
    },
    {
      "cell_type": "code",
      "execution_count": 143,
      "metadata": {
        "id": "W5mhct41Pwwc",
        "colab": {
          "base_uri": "https://localhost:8080/"
        },
        "outputId": "d0a46e7e-f7a9-4173-8de1-e4e2b61a17f8"
      },
      "outputs": [
        {
          "output_type": "stream",
          "name": "stdout",
          "text": [
            "0.547405127475515\n"
          ]
        }
      ],
      "source": [
        "a = np.random.uniform(0,1,10)\n",
        "b = 0.5\n",
        "m = a.flat[np.abs(a - b).argmin()]\n",
        "print(m)"
      ]
    },
    {
      "cell_type": "markdown",
      "metadata": {
        "id": "hmcf932OPwwc"
      },
      "source": [
        "#### 62. Considering two arrays with shape (1,3) and (3,1), how to compute their sum using an iterator? (★★☆) \n",
        "(**hint**: np.nditer)"
      ]
    },
    {
      "cell_type": "code",
      "execution_count": null,
      "metadata": {
        "id": "hpERLQ79Pwwd"
      },
      "outputs": [],
      "source": []
    },
    {
      "cell_type": "markdown",
      "metadata": {
        "id": "0vX7roCOPwwd"
      },
      "source": [
        "#### 63. Create an array class that has a name attribute (★★☆) \n",
        "(**hint**: class method)"
      ]
    },
    {
      "cell_type": "code",
      "execution_count": 152,
      "metadata": {
        "id": "YkeeGI4KPwwd",
        "colab": {
          "base_uri": "https://localhost:8080/"
        },
        "outputId": "2745d752-8295-4970-f084-216bb70ea556"
      },
      "outputs": [
        {
          "output_type": "stream",
          "name": "stdout",
          "text": [
            "range_10\n"
          ]
        }
      ],
      "source": [
        "class NamedArray(np.ndarray):\n",
        "  def __new__(cls, array, name=\"no name\"):\n",
        "    obj = np.asarray(array).view(cls)\n",
        "    obj.name = name\n",
        "    return obj  \n",
        "\n",
        "  def __array_finalize__(self, obj):\n",
        "    if obj is None: return\n",
        "    self.info = getattr(obj, 'name', \"no name\")\n",
        "\n",
        "a = NamedArray(np.arange(10), \"range_10\")\n",
        "print (a.name)"
      ]
    },
    {
      "cell_type": "markdown",
      "metadata": {
        "id": "TZviYfXXPwwd"
      },
      "source": [
        "#### 64. Consider a given vector, how to add 1 to each element indexed by a second vector (be careful with repeated indices)? (★★★) \n",
        "(**hint**: np.bincount | np.add.at)"
      ]
    },
    {
      "cell_type": "code",
      "execution_count": 153,
      "metadata": {
        "id": "FWalXqNIPwwd",
        "colab": {
          "base_uri": "https://localhost:8080/"
        },
        "outputId": "4925f510-7cc4-4b44-c93e-4b3d0d599522"
      },
      "outputs": [
        {
          "output_type": "stream",
          "name": "stdout",
          "text": [
            "[4. 3. 6. 5. 1. 2. 2. 3. 1. 3.]\n"
          ]
        }
      ],
      "source": [
        "a = np.ones(10)\n",
        "b = np.random.randint(0,len(a),20)\n",
        "a += np.bincount(b, minlength=len(a))\n",
        "print(a)"
      ]
    },
    {
      "cell_type": "markdown",
      "metadata": {
        "id": "WMR7cQx4Pwwd"
      },
      "source": [
        "#### 65. How to accumulate elements of a vector (X) to an array (F) based on an index list (I)? (★★★) \n",
        "(**hint**: np.bincount)"
      ]
    },
    {
      "cell_type": "code",
      "execution_count": 155,
      "metadata": {
        "id": "mtfvkRIuPwwd",
        "colab": {
          "base_uri": "https://localhost:8080/"
        },
        "outputId": "35c14147-2b05-4c3b-e47b-210f1da76c95"
      },
      "outputs": [
        {
          "output_type": "stream",
          "name": "stdout",
          "text": [
            "[0. 7. 0. 6. 5. 0. 0. 0. 0. 3.]\n"
          ]
        }
      ],
      "source": [
        "X = [1,2,3,4,5,6]\n",
        "I = [1,3,9,3,4,1]\n",
        "F = np.bincount(I,X)\n",
        "print(F)"
      ]
    },
    {
      "cell_type": "markdown",
      "metadata": {
        "id": "vez77GtnPwwd"
      },
      "source": [
        "#### 66. Considering a (w,h,3) image of (dtype=ubyte), compute the number of unique colors (★★★) \n",
        "(**hint**: np.unique)"
      ]
    },
    {
      "cell_type": "code",
      "execution_count": 156,
      "metadata": {
        "id": "41zX7DuCPwwd",
        "colab": {
          "base_uri": "https://localhost:8080/"
        },
        "outputId": "fc0d4325-be7c-4375-f68a-a5629575fb2d"
      },
      "outputs": [
        {
          "output_type": "stream",
          "name": "stdout",
          "text": [
            "[0 1]\n"
          ]
        }
      ],
      "source": [
        "w,h = 16,16\n",
        "I = np.random.randint(0,2,(h,w,3)).astype(np.ubyte)\n",
        "F = I[...,0]*256*256 + I[...,1]*256 +I[...,2]\n",
        "n = len(np.unique(F))\n",
        "print(np.unique(I))"
      ]
    },
    {
      "cell_type": "markdown",
      "metadata": {
        "id": "1ww-DqZePwwd"
      },
      "source": [
        "#### 67. Considering a four dimensions array, how to get sum over the last two axis at once? (★★★) \n",
        "(**hint**: sum(axis=(-2,-1)))"
      ]
    },
    {
      "cell_type": "code",
      "execution_count": 157,
      "metadata": {
        "id": "mCXHwZrdPwwd",
        "colab": {
          "base_uri": "https://localhost:8080/"
        },
        "outputId": "d1600682-1afb-48f3-d9c9-d52f501d81f6"
      },
      "outputs": [
        {
          "output_type": "stream",
          "name": "stdout",
          "text": [
            "[[64 65 61 47]\n",
            " [59 60 65 42]\n",
            " [44 57 68 58]]\n"
          ]
        }
      ],
      "source": [
        "a = np.random.randint(0,10,(3,4,3,4))\n",
        "sum = a.reshape(a.shape[:-2] + (-1,)).sum(axis=-1)\n",
        "print(sum)"
      ]
    },
    {
      "cell_type": "markdown",
      "metadata": {
        "id": "GNnnFSUwPwwd"
      },
      "source": [
        "#### 68. Considering a one-dimensional vector D, how to compute means of subsets of D using a vector S of same size describing subset  indices? (★★★) \n",
        "(**hint**: np.bincount)"
      ]
    },
    {
      "cell_type": "code",
      "execution_count": 158,
      "metadata": {
        "id": "5x7Taq_nPwwd",
        "colab": {
          "base_uri": "https://localhost:8080/"
        },
        "outputId": "1b98f1f5-4cca-402d-eed0-a3526b1a1cf0"
      },
      "outputs": [
        {
          "output_type": "stream",
          "name": "stdout",
          "text": [
            "[0.46620767 0.55671384 0.46983314 0.45644524 0.46132791 0.41540556\n",
            " 0.57748601 0.44717083 0.56432909 0.51925494]\n"
          ]
        }
      ],
      "source": [
        "D = np.random.uniform(0,1,100)\n",
        "S = np.random.randint(0,10,100)\n",
        "D_sums = np.bincount(S, weights=D)\n",
        "D_counts = np.bincount(S)\n",
        "D_means = D_sums / D_counts\n",
        "print(D_means)"
      ]
    },
    {
      "cell_type": "markdown",
      "metadata": {
        "id": "gYSHI9QuPwwd"
      },
      "source": [
        "#### 69. How to get the diagonal of a dot product? (★★★) \n",
        "(**hint**: np.diag)"
      ]
    },
    {
      "cell_type": "code",
      "source": [
        "a = np.array([[3, 7],[9, 10]])\n",
        "b = np.array([[4, 8],[9, 10]])\n",
        "c = np.diag(np.dot(a, b))\n",
        "print(c)"
      ],
      "metadata": {
        "id": "XX8zAnUlm1pe",
        "outputId": "57508bf5-3dd8-4f64-9d08-ae8cccdef6af",
        "colab": {
          "base_uri": "https://localhost:8080/"
        }
      },
      "execution_count": 166,
      "outputs": [
        {
          "output_type": "stream",
          "name": "stdout",
          "text": [
            "[ 75 172]\n"
          ]
        }
      ]
    },
    {
      "cell_type": "markdown",
      "metadata": {
        "id": "F118eH6mPwwd"
      },
      "source": [
        "#### 70. Consider the vector \\[1, 2, 3, 4, 5\\], how to build a new vector with 3 consecutive zeros interleaved between each value? (★★★) \n",
        "(**hint**: array\\[::4\\])"
      ]
    },
    {
      "cell_type": "code",
      "execution_count": 167,
      "metadata": {
        "id": "R6xa-0unPwwe",
        "colab": {
          "base_uri": "https://localhost:8080/"
        },
        "outputId": "5d67efd1-51a8-48d0-85dc-37365d5939de"
      },
      "outputs": [
        {
          "output_type": "stream",
          "name": "stdout",
          "text": [
            "[1. 0. 0. 0. 2. 0. 0. 0. 3. 0. 0. 0. 4. 0. 0. 0. 5.]\n"
          ]
        }
      ],
      "source": [
        "a = np.array([1,2,3,4,5])\n",
        "b = 3\n",
        "c = np.zeros(len(a) + (len(a)-1)*(b))\n",
        "c[::b+1] = a\n",
        "print(c)"
      ]
    },
    {
      "cell_type": "markdown",
      "metadata": {
        "id": "D1icAt9XPwwe"
      },
      "source": [
        "#### 71. Consider an array of dimension (5,5,3), how to mulitply it by an array with dimensions (5,5)? (★★★) \n",
        "(**hint**: array\\[:, :, None\\])"
      ]
    },
    {
      "cell_type": "code",
      "execution_count": 168,
      "metadata": {
        "collapsed": true,
        "id": "c5LdxGN3Pwwe",
        "colab": {
          "base_uri": "https://localhost:8080/"
        },
        "outputId": "092161f1-985f-4082-954a-3a9cdb921cdd"
      },
      "outputs": [
        {
          "output_type": "stream",
          "name": "stdout",
          "text": [
            "[[[2. 2. 2.]\n",
            "  [2. 2. 2.]\n",
            "  [2. 2. 2.]\n",
            "  [2. 2. 2.]\n",
            "  [2. 2. 2.]]\n",
            "\n",
            " [[2. 2. 2.]\n",
            "  [2. 2. 2.]\n",
            "  [2. 2. 2.]\n",
            "  [2. 2. 2.]\n",
            "  [2. 2. 2.]]\n",
            "\n",
            " [[2. 2. 2.]\n",
            "  [2. 2. 2.]\n",
            "  [2. 2. 2.]\n",
            "  [2. 2. 2.]\n",
            "  [2. 2. 2.]]\n",
            "\n",
            " [[2. 2. 2.]\n",
            "  [2. 2. 2.]\n",
            "  [2. 2. 2.]\n",
            "  [2. 2. 2.]\n",
            "  [2. 2. 2.]]\n",
            "\n",
            " [[2. 2. 2.]\n",
            "  [2. 2. 2.]\n",
            "  [2. 2. 2.]\n",
            "  [2. 2. 2.]\n",
            "  [2. 2. 2.]]]\n"
          ]
        }
      ],
      "source": [
        "A = np.ones((5,5,3))\n",
        "B = 2*np.ones((5,5))\n",
        "print(A * B[:,:,None])"
      ]
    },
    {
      "cell_type": "markdown",
      "metadata": {
        "id": "bySueBcJPwwe"
      },
      "source": [
        "#### 72. How to swap two rows of an array? (★★★) \n",
        "(**hint**: array\\[\\[\\]\\] = array\\[\\[\\]\\])"
      ]
    },
    {
      "cell_type": "code",
      "execution_count": 169,
      "metadata": {
        "id": "vrpj8qqsPwwe",
        "colab": {
          "base_uri": "https://localhost:8080/"
        },
        "outputId": "6851b19c-ad2c-4d1c-f801-ca2310c353f3"
      },
      "outputs": [
        {
          "output_type": "stream",
          "name": "stdout",
          "text": [
            "[[ 5  6  7  8  9]\n",
            " [ 0  1  2  3  4]\n",
            " [10 11 12 13 14]\n",
            " [15 16 17 18 19]\n",
            " [20 21 22 23 24]]\n"
          ]
        }
      ],
      "source": [
        "A = np.arange(25).reshape(5,5)\n",
        "A[[0,1]] = A[[1,0]]\n",
        "print(A)"
      ]
    },
    {
      "cell_type": "markdown",
      "metadata": {
        "id": "Pdr1wn9oPwwe"
      },
      "source": [
        "#### 73. Consider a set of 10 triplets describing 10 triangles (with shared vertices), find the set of unique line segments composing all the  triangles (★★★) \n",
        "(**hint**: repeat, np.roll, np.sort, view, np.unique)"
      ]
    },
    {
      "cell_type": "code",
      "execution_count": 170,
      "metadata": {
        "id": "K6_EogzzPwwe",
        "colab": {
          "base_uri": "https://localhost:8080/"
        },
        "outputId": "424d13e1-7a7f-4587-9c7d-f775d92ada04"
      },
      "outputs": [
        {
          "output_type": "stream",
          "name": "stdout",
          "text": [
            "[( 2, 12) ( 2, 58) ( 4, 80) ( 4, 88) ( 7, 21) ( 7, 34) ( 7, 44) ( 7, 56)\n",
            " (12, 58) (21, 44) (29, 73) (29, 91) (32, 59) (32, 72) (34, 56) (40, 79)\n",
            " (40, 83) (57, 69) (57, 76) (59, 72) (69, 76) (69, 84) (70, 78) (70, 97)\n",
            " (73, 91) (76, 84) (78, 97) (79, 83) (80, 88)]\n"
          ]
        }
      ],
      "source": [
        "faces = np.random.randint(0,100,(10,3))\n",
        "F = np.roll(faces.repeat(2,axis=1),-1,axis=1)\n",
        "F = F.reshape(len(F)*3,2)\n",
        "F = np.sort(F,axis=1)\n",
        "G = F.view( dtype=[('p0',F.dtype),('p1',F.dtype)] )\n",
        "G = np.unique(G)\n",
        "print(G)"
      ]
    },
    {
      "cell_type": "markdown",
      "metadata": {
        "id": "NzEkPfQVPwwe"
      },
      "source": [
        "#### 74. Given an array C that is a bincount, how to produce an array A such that np.bincount(A) == C? (★★★) \n",
        "(**hint**: np.repeat)"
      ]
    },
    {
      "cell_type": "code",
      "execution_count": 171,
      "metadata": {
        "id": "00hpaoiHPwwe",
        "colab": {
          "base_uri": "https://localhost:8080/"
        },
        "outputId": "2c9f8225-a188-41b4-a773-1a15e4282219"
      },
      "outputs": [
        {
          "output_type": "stream",
          "name": "stdout",
          "text": [
            "[1 1 2 3 4 4 6]\n"
          ]
        }
      ],
      "source": [
        "C = np.bincount([1,1,2,3,4,4,6])\n",
        "A = np.repeat(np.arange(len(C)), C)\n",
        "print(A)"
      ]
    },
    {
      "cell_type": "markdown",
      "metadata": {
        "id": "Ur3shtqnPwwe"
      },
      "source": [
        "#### 75. How to compute averages using a sliding window over an array? (★★★) \n",
        "(**hint**: np.cumsum)"
      ]
    },
    {
      "cell_type": "code",
      "execution_count": 172,
      "metadata": {
        "id": "h7kXRtcRPwwf",
        "colab": {
          "base_uri": "https://localhost:8080/"
        },
        "outputId": "d687c653-8ace-4839-c414-e7f20f296c16"
      },
      "outputs": [
        {
          "output_type": "stream",
          "name": "stdout",
          "text": [
            "[ 1.  2.  3.  4.  5.  6.  7.  8.  9. 10. 11. 12. 13. 14. 15. 16. 17. 18.]\n"
          ]
        }
      ],
      "source": [
        "def moving_average(a, n=3) :\n",
        "  ret = np.cumsum(a, dtype=float)\n",
        "  ret[n:] = ret[n:] - ret[:-n]\n",
        "  return ret[n - 1:] / n\n",
        "Z = np.arange(20)\n",
        "print(moving_average(Z, n=3))"
      ]
    },
    {
      "cell_type": "markdown",
      "metadata": {
        "id": "bv4xHENjPwwf"
      },
      "source": [
        "#### 76. Consider a one-dimensional array Z, build a two-dimensional array whose first row is (Z\\[0\\],Z\\[1\\],Z\\[2\\]) and each subsequent row is  shifted by 1 (last row should be (Z\\[-3\\],Z\\[-2\\],Z\\[-1\\]) (★★★) \n",
        "(**hint**: from numpy.lib import stride_tricks)"
      ]
    },
    {
      "cell_type": "code",
      "execution_count": 173,
      "metadata": {
        "id": "hNEK7cDiPwwf",
        "colab": {
          "base_uri": "https://localhost:8080/"
        },
        "outputId": "c6d4594f-5156-4121-8dd3-555a410205eb"
      },
      "outputs": [
        {
          "output_type": "stream",
          "name": "stdout",
          "text": [
            "[[0 1 2]\n",
            " [1 2 3]\n",
            " [2 3 4]\n",
            " [3 4 5]\n",
            " [4 5 6]\n",
            " [5 6 7]\n",
            " [6 7 8]\n",
            " [7 8 9]]\n"
          ]
        }
      ],
      "source": [
        "from numpy.lib import stride_tricks\n",
        "def rolling(a, window):\n",
        "  shape = (a.size - window + 1, window)\n",
        "  strides = (a.itemsize, a.itemsize)\n",
        "  return stride_tricks.as_strided(a, shape=shape, strides=strides)\n",
        "Z = rolling(np.arange(10), 3)\n",
        "print(Z)"
      ]
    },
    {
      "cell_type": "markdown",
      "metadata": {
        "id": "DOpyJu4-Pwwf"
      },
      "source": [
        "#### 77. How to negate a boolean, or to change the sign of a float inplace? (★★★) \n",
        "(**hint**: np.logical_not, np.negative)"
      ]
    },
    {
      "cell_type": "code",
      "execution_count": 177,
      "metadata": {
        "id": "AhB3lfklPwwf",
        "colab": {
          "base_uri": "https://localhost:8080/"
        },
        "outputId": "76dc489f-46bf-4af1-e75d-6b75f3107791"
      },
      "outputs": [
        {
          "output_type": "stream",
          "name": "stdout",
          "text": [
            "[1 1 1 0 0 1 1 1 0 1 0 0 1 0 1 1 0 1 0 1 1 1 0 0 1 0 1 0 1 0 0 1 0 0 0 0 1\n",
            " 0 0 1 1 0 0 1 0 0 0 1 1 1 0 1 0 1 0 0 0 1 1 0 0 1 1 0 0 1 0 1 0 0 0 1 0 1\n",
            " 1 0 0 0 1 1 1 1 0 1 0 0 1 0 1 0 0 0 0 0 0 1 1 1 0 0]\n",
            "[-0.265148    0.84258186  0.14967865 -0.4431844  -0.9272548  -0.62461444\n",
            "  0.43682357  0.36978733  0.51393875  0.343943   -0.58180643 -0.44330778\n",
            " -0.11843648 -0.63733911 -0.58158772  0.43230698  0.71947457 -0.37077249\n",
            "  0.85289539  0.3042128   0.96418317 -0.38262189 -0.70129896  0.46101797\n",
            " -0.5657777  -0.75336401  0.98652636 -0.37244908 -0.30516651 -0.0444458\n",
            "  0.24344403 -0.45314074 -0.40097896 -0.49440862  0.36708957  0.07982605\n",
            " -0.69547116  0.68322214  0.41341923  0.74850068  0.34307468  0.67555763\n",
            " -0.67226488 -0.08259434  0.79376551  0.98386698 -0.17275519 -0.18837098\n",
            " -0.99120528  0.61764222 -0.4161445   0.06898416 -0.52560092  0.67047269\n",
            "  0.02543996  0.25022487  0.93456077 -0.879499   -0.93035788 -0.52259024\n",
            " -0.33777321 -0.18695339 -0.63143616 -0.79455126  0.89774127 -0.57718873\n",
            "  0.05239379 -0.78399385  0.66825789  0.19396388  0.60127981 -0.4465827\n",
            " -0.72196275 -0.61928567 -0.41751926  0.50652005 -0.34358774  0.76120007\n",
            " -0.08060906  0.10032782 -0.07874247 -0.8777467   0.2370499   0.26668493\n",
            " -0.92234203 -0.82883454 -0.18827212  0.42823426  0.9220803  -0.01919196\n",
            " -0.72759572 -0.50953508  0.90975047 -0.39670419 -0.33376971  0.58749615\n",
            "  0.59757941 -0.12462426  0.63807197  0.59346149]\n"
          ]
        }
      ],
      "source": [
        "z = np.random.randint(0,2,100)\n",
        "np.logical_not(z, out=z)\n",
        "print(z)\n",
        "z = np.random.uniform(-1.0,1.0,100)\n",
        "np.negative(z, out=z)\n",
        "print(z)"
      ]
    },
    {
      "cell_type": "markdown",
      "metadata": {
        "id": "TUom8z_iPwwf"
      },
      "source": [
        "#### 78. Consider 2 sets of points P0,P1 describing lines (2d) and a point p, how to compute distance from p to each line i  (P0\\[i\\],P1\\[i\\])? (★★★)"
      ]
    },
    {
      "cell_type": "code",
      "execution_count": 178,
      "metadata": {
        "id": "EBgl9tWZPwwf",
        "colab": {
          "base_uri": "https://localhost:8080/"
        },
        "outputId": "8a4063c6-9daf-4601-d3b7-29d9678d87a8"
      },
      "outputs": [
        {
          "output_type": "stream",
          "name": "stdout",
          "text": [
            "[ 5.43610047  1.72106292  5.15486478 12.47680272  9.63734073  3.24387329\n",
            " 14.21333659  7.63926295  5.78354849 14.10612919]\n"
          ]
        }
      ],
      "source": [
        "def distance(P0, P1, p):\n",
        "  T = P1 - P0\n",
        "  L = (T**2).sum(axis=1)\n",
        "  U = -((P0[:,0]-p[...,0])*T[:,0] + (P0[:,1]-p[...,1])*T[:,1]) / L\n",
        "  U = U.reshape(len(U),1)\n",
        "  D = P0 + U*T - p\n",
        "  return np.sqrt((D**2).sum(axis=1))\n",
        "P0 = np.random.uniform(-10,10,(10,2))\n",
        "P1 = np.random.uniform(-10,10,(10,2))\n",
        "p = np.random.uniform(-10,10,( 1,2))\n",
        "print(distance(P0, P1, p))"
      ]
    },
    {
      "cell_type": "markdown",
      "metadata": {
        "id": "N_uImz1JPwwf"
      },
      "source": [
        "#### 79. Consider 2 sets of points P0,P1 describing lines (2d) and a set of points P, how to compute distance from each point j (P\\[j\\]) to each line i (P0\\[i\\],P1\\[i\\])? (★★★)"
      ]
    },
    {
      "cell_type": "code",
      "execution_count": 180,
      "metadata": {
        "id": "JeKwkADOPwwf",
        "colab": {
          "base_uri": "https://localhost:8080/"
        },
        "outputId": "641f782f-7d23-437d-9caf-21ed8fa6127e"
      },
      "outputs": [
        {
          "output_type": "stream",
          "name": "stdout",
          "text": [
            "[[ 6.04419965  8.23704551  4.61487043  8.62448391  4.9557145   1.31992094\n",
            "  14.15610321  2.82238699  5.64045013  8.95983184]\n",
            " [ 3.94229694  0.92522366  5.71461652  1.3338379   5.25047269  5.42701038\n",
            "   4.51252979  5.22906686  3.11733554  1.45840541]\n",
            " [ 5.27122119  9.52669139  5.67355303  9.97968172  5.67053224  2.67304209\n",
            "  14.64771684  2.92063365  6.95804144  9.85798722]\n",
            " [ 2.70386856  1.90173456  3.22532011  4.1641371   3.375651    2.63302619\n",
            "   5.95951561  4.57214769  0.26532981  0.75281997]\n",
            " [ 3.61728468 10.44296336  6.01719201 11.28257621  5.43238024  4.05141744\n",
            "  14.10213028  1.92061257  7.98189916  9.90874128]\n",
            " [12.38278712  4.86179647  3.43999475  3.74931576  5.99912339  3.85043198\n",
            "  16.36514981  6.74438439  1.84935282  8.90367443]\n",
            " [ 7.03948336 12.10349276  9.01392467 11.6677807   9.3358166   4.12622864\n",
            "  18.31337465  6.32493827  9.32760726 13.41386767]\n",
            " [11.07389497  3.19624356  1.21952849  2.70926914  3.51795025  4.72707953\n",
            "  13.86137545  4.38325869  0.33092816  6.51704744]\n",
            " [ 6.57064949 12.91336984  9.68489338 12.51371859  9.79590987  4.96970717\n",
            "  18.63553382  6.40269563 10.15371663 13.98671246]\n",
            " [ 3.2249062   0.55599149  7.98011213  3.85983161  9.73626486  2.41776308\n",
            "   0.97304402 11.92725285  2.18851041  4.89423951]]\n"
          ]
        }
      ],
      "source": [
        "P0 = np.random.uniform(-10, 10, (10,2))\n",
        "P1 = np.random.uniform(-10,10,(10,2))\n",
        "p = np.random.uniform(-10, 10, (10,2))\n",
        "print(np.array([distance(P0,P1,p_i) for p_i in p]))"
      ]
    },
    {
      "cell_type": "markdown",
      "metadata": {
        "id": "avKZoYYPPwwf"
      },
      "source": [
        "#### 80. Consider an arbitrary array, write a function that extract a subpart with a fixed shape and centered on a given element (pad with a `fill` value when necessary) (★★★) \n",
        "(**hint**: minimum, maximum)"
      ]
    },
    {
      "cell_type": "code",
      "execution_count": 181,
      "metadata": {
        "id": "ig_eOBLpPwwf",
        "colab": {
          "base_uri": "https://localhost:8080/"
        },
        "outputId": "6e1b6654-6649-4913-c964-5b1515a07ca9"
      },
      "outputs": [
        {
          "output_type": "stream",
          "name": "stdout",
          "text": [
            "[[0 8 0 8 5 8 7 6 1 3]\n",
            " [4 9 4 3 6 4 8 7 5 4]\n",
            " [2 7 8 9 1 1 8 4 7 5]\n",
            " [3 3 6 4 7 9 4 9 7 6]\n",
            " [8 6 2 2 8 3 5 0 2 8]\n",
            " [1 4 0 6 4 0 5 8 0 5]\n",
            " [2 6 7 1 0 9 4 9 4 9]\n",
            " [6 3 3 6 3 8 1 0 7 1]\n",
            " [2 3 1 4 4 5 3 4 5 2]\n",
            " [2 5 6 4 2 9 6 5 8 7]]\n",
            "[[0 0 0 0 0]\n",
            " [0 0 8 0 8]\n",
            " [0 4 9 4 3]\n",
            " [0 2 7 8 9]\n",
            " [0 3 3 6 4]]\n"
          ]
        },
        {
          "output_type": "stream",
          "name": "stderr",
          "text": [
            "/usr/local/lib/python3.7/dist-packages/ipykernel_launcher.py:19: FutureWarning: Using a non-tuple sequence for multidimensional indexing is deprecated; use `arr[tuple(seq)]` instead of `arr[seq]`. In the future this will be interpreted as an array index, `arr[np.array(seq)]`, which will result either in an error or a different result.\n"
          ]
        }
      ],
      "source": [
        "Z = np.random.randint(0,10,(10,10))\n",
        "shape = (5,5)\n",
        "fill = 0\n",
        "position = (1,1)\n",
        "R = np.ones(shape, dtype=Z.dtype)*fill\n",
        "P = np.array(list(position)).astype(int)\n",
        "Rs = np.array(list(R.shape)).astype(int)\n",
        "Zs = np.array(list(Z.shape)).astype(int)\n",
        "R_start = np.zeros((len(shape),)).astype(int)\n",
        "R_stop = np.array(list(shape)).astype(int)\n",
        "Z_start = (P-Rs//2)\n",
        "Z_stop = (P+Rs//2)+Rs%2\n",
        "R_start = (R_start - np.minimum(Z_start,0)).tolist()\n",
        "Z_start = (np.maximum(Z_start,0)).tolist()\n",
        "R_stop = np.maximum(R_start, (R_stop - np.maximum(Z_stop-Zs,0))).tolist()\n",
        "Z_stop = (np.minimum(Z_stop,Zs)).tolist()\n",
        "r = [slice(start,stop) for start,stop in zip(R_start,R_stop)]\n",
        "z = [slice(start,stop) for start,stop in zip(Z_start,Z_stop)]\n",
        "R[r] = Z[z]\n",
        "print(Z)\n",
        "print(R)"
      ]
    },
    {
      "cell_type": "markdown",
      "metadata": {
        "id": "edP-1PfSPwwg"
      },
      "source": [
        "#### 81. Consider an array Z = \\[1,2,3,4,5,6,7,8,9,10,11,12,13,14\\], how to generate an array R = \\[\\[1,2,3,4\\], \\[2,3,4,5\\], \\[3,4,5,6\\], ..., \\[11,12,13,14\\]\\]? (★★★) \n",
        "(**hint**: stride\\_tricks.as\\_strided)"
      ]
    },
    {
      "cell_type": "code",
      "execution_count": 182,
      "metadata": {
        "id": "McztbBkXPwwg",
        "colab": {
          "base_uri": "https://localhost:8080/"
        },
        "outputId": "95e3415e-133d-40dd-fc71-7ffac224ba5b"
      },
      "outputs": [
        {
          "output_type": "stream",
          "name": "stdout",
          "text": [
            "[[ 1  2  3  4]\n",
            " [ 2  3  4  5]\n",
            " [ 3  4  5  6]\n",
            " [ 4  5  6  7]\n",
            " [ 5  6  7  8]\n",
            " [ 6  7  8  9]\n",
            " [ 7  8  9 10]\n",
            " [ 8  9 10 11]\n",
            " [ 9 10 11 12]\n",
            " [10 11 12 13]\n",
            " [11 12 13 14]]\n"
          ]
        }
      ],
      "source": [
        "a = np.arange(1,15,dtype=uint32)\n",
        "b = stride_tricks.as_strided(a,(11,4),(4,4))\n",
        "print(b)"
      ]
    },
    {
      "cell_type": "markdown",
      "metadata": {
        "id": "ntQTL2uNPwwg"
      },
      "source": [
        "#### 82. Compute a matrix rank (★★★) \n",
        "(**hint**: np.linalg.svd) (suggestion: np.linalg.svd)"
      ]
    },
    {
      "cell_type": "code",
      "execution_count": null,
      "metadata": {
        "id": "-VzLuMTjPwwg"
      },
      "outputs": [],
      "source": []
    },
    {
      "cell_type": "markdown",
      "metadata": {
        "id": "S3V9cC8yPwwg"
      },
      "source": [
        "#### 83. How to find the most frequent value in an array? \n",
        "(**hint**: np.bincount, argmax)"
      ]
    },
    {
      "cell_type": "code",
      "execution_count": null,
      "metadata": {
        "id": "dy-VlvImPwwg"
      },
      "outputs": [],
      "source": []
    },
    {
      "cell_type": "markdown",
      "metadata": {
        "id": "5kQBwnXoPwwg"
      },
      "source": [
        "#### 84. Extract all the contiguous 3x3 blocks from a random 10x10 matrix (★★★) \n",
        "(**hint**: stride\\_tricks.as\\_strided)"
      ]
    },
    {
      "cell_type": "code",
      "execution_count": null,
      "metadata": {
        "id": "VSBALuyGPwwg"
      },
      "outputs": [],
      "source": []
    },
    {
      "cell_type": "markdown",
      "metadata": {
        "id": "y6m3i0ZaPwwg"
      },
      "source": [
        "#### 85. Create a 2D array subclass such that Z\\[i,j\\] == Z\\[j,i\\] (★★★) \n",
        "(**hint**: class method)"
      ]
    },
    {
      "cell_type": "code",
      "execution_count": null,
      "metadata": {
        "id": "945wOLCnPwwg"
      },
      "outputs": [],
      "source": []
    },
    {
      "cell_type": "markdown",
      "metadata": {
        "id": "apz9AXgRPwwg"
      },
      "source": [
        "#### 86. Consider a set of p matrices wich shape (n,n) and a set of p vectors with shape (n,1). How to compute the sum of of the p matrix products at once? (result has shape (n,1)) (★★★) \n",
        "(**hint**: np.tensordot)"
      ]
    },
    {
      "cell_type": "code",
      "execution_count": null,
      "metadata": {
        "id": "5d798ujOPwwg"
      },
      "outputs": [],
      "source": []
    },
    {
      "cell_type": "markdown",
      "metadata": {
        "id": "RRoo5hQvPwwh"
      },
      "source": [
        "#### 87. Consider a 16x16 array, how to get the block-sum (block size is 4x4)? (★★★) \n",
        "(**hint**: np.add.reduceat)"
      ]
    },
    {
      "cell_type": "code",
      "execution_count": null,
      "metadata": {
        "id": "-l957BzyPwwh"
      },
      "outputs": [],
      "source": []
    },
    {
      "cell_type": "markdown",
      "metadata": {
        "id": "AJori5l1Pwwh"
      },
      "source": [
        "#### 88. How to implement the Game of Life using numpy arrays? (★★★)"
      ]
    },
    {
      "cell_type": "code",
      "execution_count": null,
      "metadata": {
        "id": "4Drj9NNzPwwh"
      },
      "outputs": [],
      "source": []
    },
    {
      "cell_type": "markdown",
      "metadata": {
        "id": "8pzq_u3kPwwh"
      },
      "source": [
        "#### 89. How to get the n largest values of an array (★★★) \n",
        "(**hint**: np.argsort | np.argpartition)"
      ]
    },
    {
      "cell_type": "code",
      "execution_count": null,
      "metadata": {
        "id": "IZ74J1m7Pwwh"
      },
      "outputs": [],
      "source": []
    },
    {
      "cell_type": "markdown",
      "metadata": {
        "id": "gJidjopgPwwh"
      },
      "source": [
        "#### 90. Given an arbitrary number of vectors, build the cartesian product (every combinations of every item) (★★★) \n",
        "(**hint**: np.indices)"
      ]
    },
    {
      "cell_type": "code",
      "execution_count": null,
      "metadata": {
        "scrolled": true,
        "id": "TAhBPRgzPwwh"
      },
      "outputs": [],
      "source": []
    },
    {
      "cell_type": "markdown",
      "metadata": {
        "id": "xjZTaOZhPwwh"
      },
      "source": [
        "#### 91. How to create a record array from a regular array? (★★★) \n",
        "(**hint**: np.core.records.fromarrays)"
      ]
    },
    {
      "cell_type": "code",
      "execution_count": null,
      "metadata": {
        "id": "WhCAyQgIPwwh"
      },
      "outputs": [],
      "source": []
    },
    {
      "cell_type": "markdown",
      "metadata": {
        "id": "YFWGVoT4Pwwh"
      },
      "source": [
        "#### 92. Consider a large vector Z, compute Z to the power of 3 using 3 different methods (★★★) \n",
        "(**hint**: np.power, \\*, np.einsum)"
      ]
    },
    {
      "cell_type": "code",
      "execution_count": null,
      "metadata": {
        "id": "UFfl29KTPwwh"
      },
      "outputs": [],
      "source": []
    },
    {
      "cell_type": "markdown",
      "metadata": {
        "id": "jLlbUAIePwwh"
      },
      "source": [
        "#### 93. Consider two arrays A and B of shape (8,3) and (2,2). How to find rows of A that contain elements of each row of B regardless of the order of the elements in B? (★★★) \n",
        "(**hint**: np.where)"
      ]
    },
    {
      "cell_type": "code",
      "execution_count": null,
      "metadata": {
        "id": "EofNFOUdPwwh"
      },
      "outputs": [],
      "source": []
    },
    {
      "cell_type": "markdown",
      "metadata": {
        "id": "ESFgfX1cPwwh"
      },
      "source": [
        "#### 94. Considering a 10x3 matrix, extract rows with unequal values (e.g. \\[2,2,3\\]) (★★★)"
      ]
    },
    {
      "cell_type": "code",
      "execution_count": null,
      "metadata": {
        "id": "Atq6-C_VPwwh"
      },
      "outputs": [],
      "source": []
    },
    {
      "cell_type": "markdown",
      "metadata": {
        "id": "6o8anfhnPwwi"
      },
      "source": [
        "#### 95. Convert a vector of ints into a matrix binary representation (★★★) \n",
        "(**hint**: np.unpackbits)"
      ]
    },
    {
      "cell_type": "code",
      "execution_count": null,
      "metadata": {
        "id": "ZzX6Ckd_Pwwi"
      },
      "outputs": [],
      "source": []
    },
    {
      "cell_type": "markdown",
      "metadata": {
        "id": "6RPbeKp8Pwwi"
      },
      "source": [
        "#### 96. Given a two dimensional array, how to extract unique rows? (★★★) \n",
        "(**hint**: np.ascontiguousarray)"
      ]
    },
    {
      "cell_type": "code",
      "execution_count": null,
      "metadata": {
        "id": "A9hxypydPwwi"
      },
      "outputs": [],
      "source": []
    },
    {
      "cell_type": "markdown",
      "metadata": {
        "id": "Yfl_SMnfPwwi"
      },
      "source": [
        "#### 97. Considering 2 vectors A & B, write the einsum equivalent of inner, outer, sum, and mul function (★★★) \n",
        "(**hint**: np.einsum)"
      ]
    },
    {
      "cell_type": "code",
      "execution_count": null,
      "metadata": {
        "id": "jh-wI2r9Pwwi"
      },
      "outputs": [],
      "source": []
    },
    {
      "cell_type": "markdown",
      "metadata": {
        "id": "AhFUJrZhPwwi"
      },
      "source": [
        "#### 98. Considering a path described by two vectors (X,Y), how to sample it using equidistant samples (★★★)? \n",
        "(**hint**: np.cumsum, np.interp)"
      ]
    },
    {
      "cell_type": "code",
      "execution_count": null,
      "metadata": {
        "collapsed": true,
        "id": "cV6ea76ZPwwi"
      },
      "outputs": [],
      "source": []
    },
    {
      "cell_type": "markdown",
      "metadata": {
        "id": "w34cZMzyPwwi"
      },
      "source": [
        "#### 99. Given an integer n and a 2D array X, select from X the rows which can be interpreted as draws from a multinomial distribution with n degrees, i.e., the rows which only contain integers and which sum to n. (★★★) \n",
        "(**hint**: np.logical\\_and.reduce, np.mod)"
      ]
    },
    {
      "cell_type": "code",
      "execution_count": null,
      "metadata": {
        "id": "eTL7YXICPwwi"
      },
      "outputs": [],
      "source": []
    },
    {
      "cell_type": "markdown",
      "metadata": {
        "id": "htu0FZdrPwwi"
      },
      "source": [
        "#### 100. Compute bootstrapped 95% confidence intervals for the mean of a 1D array X (i.e., resample the elements of an array with replacement N times, compute the mean of each sample, and then compute percentiles over the means). (★★★) \n",
        "(**hint**: np.percentile)"
      ]
    },
    {
      "cell_type": "code",
      "execution_count": null,
      "metadata": {
        "id": "D1SYx9gcPwwi"
      },
      "outputs": [],
      "source": []
    }
  ],
  "metadata": {
    "kernelspec": {
      "display_name": "Python 3",
      "language": "python",
      "name": "python3"
    },
    "language_info": {
      "codemirror_mode": {
        "name": "ipython",
        "version": 3
      },
      "file_extension": ".py",
      "mimetype": "text/x-python",
      "name": "python",
      "nbconvert_exporter": "python",
      "pygments_lexer": "ipython3",
      "version": "3.8.3"
    },
    "colab": {
      "provenance": [],
      "collapsed_sections": [
        "jSKwM0S0PwwP",
        "mvUBQPjsPwwP",
        "ajlDpqBsPwwQ",
        "JSq1YZ_JPwwR",
        "8GEnA4evPwwR",
        "vt401go5PwwS",
        "rJNiwm97PwwS",
        "Lnela_UiPwwS",
        "Tqe0N5G8PwwS",
        "PaKZGXsMPwwS",
        "DQDDqpGtPwwT",
        "lssmEBpgPwwT",
        "wbstj90zPwwU",
        "YRl7_h9qPwwU",
        "4wt7sEvBPwwV",
        "nh24smsqPwwV",
        "-I8i7UOzPwwW",
        "Z4GCrVeZPwwW",
        "lcGokYzFPwwW",
        "Hx9_M3BzPwwX",
        "qku-WwBYPwwX",
        "TmdArHdtPwwY",
        "-0LalT5zPwwY",
        "Qykmuz6vPwwY",
        "c1EXL3kqPwwY",
        "OgxsJEr3PwwY",
        "xwyGQ9KqPwwZ",
        "dHcQl9vvPwwZ",
        "kkRJCojePwwZ",
        "oEnwa90HPwwZ",
        "iEfaUkjpPwwZ",
        "EApGgGwoPwwZ",
        "2n8sbQdXPwwa",
        "QlRWmxpGPwwa",
        "u4OiFOPSPwwa",
        "cXMmMaduPwwa",
        "jcibjjH8Pwwa",
        "wwJ86dh_Pwwa",
        "El4uPhTNPwwa",
        "FnwV_qeDPwwa",
        "yuRHG2rxPwwb",
        "azRGPFzBPwwb",
        "B_Ov6G4aPwwb",
        "kx01HQqsPwwb",
        "nDGIMkMRPwwb",
        "1NQzgbmXPwwb",
        "NZIO2_rtPwwb",
        "O7idwwpkPwwc",
        "6Z9NRwWoPwwc",
        "Fgda94QZPwwc",
        "jeypUhBQPwwc",
        "gk8JdQwoPwwc",
        "Xl7GbT6HPwwc",
        "D4CyIvqLPwwc",
        "hmcf932OPwwc",
        "0vX7roCOPwwd",
        "TZviYfXXPwwd",
        "WMR7cQx4Pwwd",
        "vez77GtnPwwd",
        "1ww-DqZePwwd",
        "GNnnFSUwPwwd",
        "gYSHI9QuPwwd",
        "F118eH6mPwwd",
        "D1icAt9XPwwe",
        "bySueBcJPwwe",
        "Pdr1wn9oPwwe",
        "NzEkPfQVPwwe",
        "Ur3shtqnPwwe",
        "bv4xHENjPwwf",
        "DOpyJu4-Pwwf",
        "TUom8z_iPwwf",
        "N_uImz1JPwwf",
        "avKZoYYPPwwf",
        "edP-1PfSPwwg",
        "ntQTL2uNPwwg",
        "S3V9cC8yPwwg",
        "5kQBwnXoPwwg",
        "y6m3i0ZaPwwg",
        "apz9AXgRPwwg",
        "RRoo5hQvPwwh",
        "AJori5l1Pwwh",
        "8pzq_u3kPwwh",
        "gJidjopgPwwh",
        "xjZTaOZhPwwh",
        "YFWGVoT4Pwwh",
        "jLlbUAIePwwh",
        "ESFgfX1cPwwh",
        "6o8anfhnPwwi",
        "6RPbeKp8Pwwi",
        "Yfl_SMnfPwwi",
        "AhFUJrZhPwwi",
        "w34cZMzyPwwi",
        "htu0FZdrPwwi"
      ],
      "include_colab_link": true
    }
  },
  "nbformat": 4,
  "nbformat_minor": 0
}